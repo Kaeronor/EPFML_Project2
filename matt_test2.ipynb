{
 "cells": [
  {
   "cell_type": "code",
   "execution_count": 1,
   "metadata": {},
   "outputs": [],
   "source": [
    "%matplotlib inline\n",
    "\n",
    "import os,sys\n",
    "import gc\n",
    "\n",
    "import matplotlib.image as mpimg\n",
    "import matplotlib.pyplot as plt\n",
    "from PIL import Image\n",
    "import numpy as np\n",
    "\n",
    "import torch\n",
    "from torch.autograd import Variable\n",
    "\n",
    "import timeit\n",
    "\n",
    "%load_ext autoreload\n",
    "%autoreload 2"
   ]
  },
  {
   "cell_type": "markdown",
   "metadata": {},
   "source": [
    "# Loading the files for training"
   ]
  },
  {
   "cell_type": "code",
   "execution_count": 2,
   "metadata": {},
   "outputs": [
    {
     "name": "stdout",
     "output_type": "stream",
     "text": [
      "(100, 400, 400, 3) (100, 400, 400)\n"
     ]
    }
   ],
   "source": [
    "# Directory and files name\n",
    "train_dir = \"training/\"\n",
    "tr_image_dir = train_dir + \"images/\"\n",
    "tr_label_dir = train_dir + \"groundtruth/\"\n",
    "\n",
    "tr_image_files = os.listdir(tr_image_dir)\n",
    "tr_label_files = os.listdir(tr_label_dir)\n",
    "\n",
    "# Number of training samples\n",
    "N = len(tr_image_files)\n",
    "\n",
    "# Load the images and ground truth\n",
    "img_train = []\n",
    "label_train = []\n",
    "for i in range(N):\n",
    "    img = mpimg.imread(tr_image_dir + tr_image_files[i])\n",
    "    label = mpimg.imread(tr_label_dir + tr_label_files[i])\n",
    "    \n",
    "    img_train.append(img)\n",
    "    label_train.append(label)\n",
    "\n",
    "# Keep only sub-set of images\n",
    "NUM_IMAGES = N\n",
    "\n",
    "img_train = np.asarray(img_train[:NUM_IMAGES])\n",
    "label_train = np.asarray(label_train[:NUM_IMAGES])\n",
    "\n",
    "print(img_train.shape, label_train.shape)"
   ]
  },
  {
   "cell_type": "code",
   "execution_count": 3,
   "metadata": {},
   "outputs": [],
   "source": [
    "PATCH_SIZE = 16"
   ]
  },
  {
   "cell_type": "code",
   "execution_count": 341,
   "metadata": {},
   "outputs": [],
   "source": [
    "def img_crop(im, w, h):\n",
    "    list_patches = []\n",
    "    imgwidth = im.shape[0]\n",
    "    imgheight = im.shape[1]\n",
    "    is_2d = len(im.shape) < 3\n",
    "    for i in range(0,imgheight,h):\n",
    "        for j in range(0,imgwidth,w):\n",
    "            if is_2d:\n",
    "                im_patch = im[j:j+w, i:i+h]\n",
    "            else:\n",
    "                im_patch = im[j:j+w, i:i+h, :]\n",
    "            list_patches.append(im_patch)\n",
    "    return list_patches\n",
    "\n",
    "def extract_data(filename, num_images):\n",
    "    \"\"\"Extract the images into a 4D tensor [image index, y, x, channels].\n",
    "    Values are rescaled from [0, 255] down to [-0.5, 0.5].\n",
    "    \"\"\"\n",
    "    imgs = []\n",
    "    tmp_imgs = []\n",
    "    for i in range(1, num_images+1):\n",
    "        imageid = \"satImage_%.3d\" % i\n",
    "        image_filename = filename + imageid + \".png\"\n",
    "        if os.path.isfile(image_filename):\n",
    "            print ('Loading ' + image_filename)\n",
    "            img = Image.open(image_filename)\n",
    "            tmp_imgs.append(img)\n",
    "        else:\n",
    "            print ('File ' + image_filename + ' does not exist')\n",
    "\n",
    "    num_images = len(tmp_imgs)\n",
    "    for i in range(num_images):\n",
    "        imgs.append(np.asarray(tmp_imgs[i]) / 255)\n",
    "        imgs.append(np.asarray(tmp_imgs[i].rotate(90)) / 255)\n",
    "        imgs.append(np.asarray(tmp_imgs[i].rotate(180)) / 255)\n",
    "        imgs.append(np.asarray(tmp_imgs[i].rotate(-90)) / 255)\n",
    "        imgs.append(np.asarray(tmp_imgs[i].transpose(Image.FLIP_LEFT_RIGHT)) / 255)\n",
    "        imgs.append(np.asarray(tmp_imgs[i].transpose(Image.FLIP_TOP_BOTTOM)) / 255)\n",
    "        imgs.append(np.asarray(tmp_imgs[i].transpose(Image.TRANSPOSE)) / 255)\n",
    "    num_images = len(imgs)\n",
    "    IMG_WIDTH = imgs[0].shape[0]\n",
    "    IMG_HEIGHT = imgs[0].shape[1]\n",
    "    N_PATCHES_PER_IMAGE = (IMG_WIDTH/IMG_PATCH_SIZE)*(IMG_HEIGHT/IMG_PATCH_SIZE)\n",
    "    print('Patches per images: ' + str(N_PATCHES_PER_IMAGE))\n",
    "\n",
    "    img_patches = [img_crop(imgs[i], IMG_PATCH_SIZE, IMG_PATCH_SIZE) for i in range(num_images)]\n",
    "\n",
    "    data = np.array([img_patches[i][j] for i in range(len(img_patches)) for j in range(len(img_patches[i]))])\n",
    "\n",
    "    return data\n",
    "\n",
    "# Assign a label to a patch v\n",
    "def value_to_class(v):\n",
    "    foreground_threshold = 0.25 # percentage of pixels > 1 required to assign a foreground label to a patch\n",
    "    df = np.sum(v)\n",
    "    if df > foreground_threshold:\n",
    "        return 1 #return [0, 1]\n",
    "    else:\n",
    "        return 0 #return [1, 0]\n",
    "\n",
    "def enhance_save(train_data, train_labels):\n",
    "    data_copy = list(train_data)\n",
    "    path = './windows_train_patch/'\n",
    "    os.makedirs(path, exist_ok=True)\n",
    "    for ind, im in enumerate(data_copy):\n",
    "        cur_name = path + str(ind)\n",
    "        plt.imsave(cur_name + \"_\" + str(train_labels[ind]) + \".png\", im)\n",
    "        plt.imsave(cur_name + \"_\" + str(train_labels[ind]) + \"r90.png\", np.rot90(im))\n",
    "        plt.imsave(cur_name + \"_\" + str(train_labels[ind]) + \"r180.png\", np.rot90(im,k=2))        \n",
    "        plt.imsave(cur_name + \"_\" + str(train_labels[ind]) + \"r270.png\", np.rot90(im,k=3))\n",
    "        plt.imsave(cur_name + \"_\" + str(train_labels[ind]) + \"flr.png\", np.fliplr(im))\n",
    "        plt.imsave(cur_name + \"_\" + str(train_labels[ind]) + \"fud.png\", np.flipud(im))\n",
    "        plt.imsave(cur_name + \"_\" + str(train_labels[ind]) + \"tr.png\", np.transpose(im,(1, 0, 2)))\n",
    "    \n",
    "    del data_copy\n",
    "\n",
    "\n",
    "# Extract label images\n",
    "def extract_labels(filename, num_images):\n",
    "    \"\"\"Extract the labels into a 1-hot matrix [image index, label index].\"\"\"\n",
    "    gt_imgs = []\n",
    "    tmp_imgs = []\n",
    "    for i in range(1, num_images+1):\n",
    "        imageid = \"satImage_%.3d\" % i\n",
    "        image_filename = filename + imageid + \".png\"\n",
    "        if os.path.isfile(image_filename):\n",
    "            print ('Loading ' + image_filename)\n",
    "            img = Image.open(image_filename)\n",
    "            tmp_imgs.append(img)\n",
    "        else:\n",
    "            print ('File ' + image_filename + ' does not exist')\n",
    "\n",
    "    num_images = len(tmp_imgs)\n",
    "    for i in range(num_images):\n",
    "        gt_imgs.append(np.asarray(tmp_imgs[i]) / 255)        \n",
    "        gt_imgs.append(np.asarray(tmp_imgs[i].rotate(90)) / 255)\n",
    "        gt_imgs.append(np.asarray(tmp_imgs[i].rotate(180)) / 255)\n",
    "        gt_imgs.append(np.asarray(tmp_imgs[i].rotate(-90)) / 255)\n",
    "        gt_imgs.append(np.asarray(tmp_imgs[i].transpose(Image.FLIP_LEFT_RIGHT)) / 255)\n",
    "        gt_imgs.append(np.asarray(tmp_imgs[i].transpose(Image.FLIP_TOP_BOTTOM)) / 255)\n",
    "        gt_imgs.append(np.asarray(tmp_imgs[i].transpose(Image.TRANSPOSE)) / 255)\n",
    "    num_images = len(gt_imgs)\n",
    "    gt_patches = [img_crop(gt_imgs[i], IMG_PATCH_SIZE, IMG_PATCH_SIZE) for i in range(num_images)]\n",
    "    data = np.array([gt_patches[i][j] for i in range(len(gt_patches)) for j in range(len(gt_patches[i]))])\n",
    "    labels = np.array([value_to_class(np.mean(data[i])) for i in range(len(data))])\n",
    "\n",
    "    # Convert to dense 1-hot representation.\n",
    "    return labels.astype(np.float32)\n",
    "\n",
    "# Convert array of labels to an image\n",
    "def label_to_img_win(imgwidth, imgheight, w, h, labels):\n",
    "    array_labels = np.zeros([imgwidth, imgheight])\n",
    "    idx = 0\n",
    "    for i in range(0,imgheight,h):\n",
    "        for j in range(0,imgwidth,w):\n",
    "            if labels[idx] > 0.5:\n",
    "                array_labels[i:i+w, j:j+h] = 1\n",
    "            else:\n",
    "                array_labels[i:i+w, j:j+h] = 0\n",
    "            idx = idx + 1\n",
    "    return array_labels\n",
    "\n",
    "# Convert array of labels to an image\n",
    "def label_to_img(imgwidth, imgheight, w, h, labels):\n",
    "    array_labels = np.zeros([imgwidth, imgheight])\n",
    "    idx = 0\n",
    "    for i in range(0,imgheight,h):\n",
    "        for j in range(0,imgwidth,w):\n",
    "            if labels[idx] > 0.5:\n",
    "                array_labels[j:j+w, i:i+h] = 1\n",
    "            else:\n",
    "                array_labels[j:j+w, i:i+h] = 0\n",
    "            idx = idx + 1\n",
    "    return array_labels\n",
    "\n",
    "# Convert array of labels to an image\n",
    "def label_to_img_soft(imgwidth, imgheight, w, h, labels):\n",
    "    array_labels = np.zeros([imgwidth, imgheight])\n",
    "    idx = 0\n",
    "    for i in range(0,imgheight,h):\n",
    "        for j in range(0,imgwidth,w):\n",
    "            array_labels[j:j+w, i:i+h] = labels[idx]\n",
    "            idx = idx + 1\n",
    "    return array_labels\n",
    "\n",
    "def img_float_to_uint8(img):\n",
    "    rimg = img - np.min(img)\n",
    "    rimg = (rimg / np.max(rimg) * PIXEL_DEPTH).round().astype(np.uint8)\n",
    "    return rimg"
   ]
  },
  {
   "cell_type": "code",
   "execution_count": 5,
   "metadata": {},
   "outputs": [],
   "source": [
    "# Compute features for each image patch\n",
    "foreground_threshold = 0.25 # percentage of pixels > 1 required to assign a foreground label to a patch\n",
    "\n",
    "def value_to_class(v):\n",
    "    df = np.sum(v)\n",
    "    if df > foreground_threshold:\n",
    "        return 1\n",
    "    else:\n",
    "        return 0\n",
    "\n",
    "label_train = [value_to_class(np.mean(label_train[i])) for i in range(len(label_train))]"
   ]
  },
  {
   "cell_type": "markdown",
   "metadata": {},
   "source": [
    "# Enhance the training dataset w/ sliding windows"
   ]
  },
  {
   "cell_type": "code",
   "execution_count": 6,
   "metadata": {},
   "outputs": [],
   "source": [
    "IMG_SIZE = 400\n",
    "WINDOW_SIZE = 52 # 18px - PATCH_SIZE - 18px\n",
    "NB_WINDOWS = (IMG_SIZE/PATCH_SIZE)**2"
   ]
  },
  {
   "cell_type": "code",
   "execution_count": 7,
   "metadata": {},
   "outputs": [],
   "source": [
    "def apply_mirror_boundary_conditions(coord, dim):\n",
    "    \"\"\"\n",
    "    Return the correct coordinate according to mirror boundary conditions\n",
    "        coord: a coordinate (x or y) in the image\n",
    "        dim: the length of the axis of said coordinate\n",
    "    \"\"\"\n",
    "    # If the coordinate is outside of the bounds of the axis, take its reflection inside the image\n",
    "    if coord < 0:\n",
    "        coord = -coord\n",
    "    elif coord >= dim:\n",
    "        coord =  2*(dim-1) - coord % (2*(dim-1))\n",
    "    # Else, do nothing\n",
    "    return int(coord)\n",
    "\n",
    "def get_window(image, window_size, corner_coordinates, patch_size):\n",
    "    \"\"\"\n",
    "    Get a window in image, centered on a patch, taking into account boundary conditions\n",
    "        image: a numpy array representing our image\n",
    "        window_size: an even number specifying the size of the window\n",
    "        corner_coordinates: a list containing the x-y coordinates of the patch's upleft pixel\n",
    "        path_size: an even number specifying the size of the central patch\n",
    "    \"\"\"\n",
    "    # Get convenient variables\n",
    "    window_radius = window_size/2\n",
    "    border_size = (window_size - patch_size)/2\n",
    "    i_patch_corner, j_patch_corner = (corner_coordinates[0], corner_coordinates[1])\n",
    "    i_window_corner, j_window_corner = (i_patch_corner - border_size, j_patch_corner - border_size)\n",
    "    nrows, ncols, nchannels = image.shape\n",
    "    window = np.zeros((window_size, window_size, nchannels))\n",
    "    \n",
    "    # Fill in the window array with pixels of the image\n",
    "    for i in range(window_size):\n",
    "        # Apply mirror boundary conditions on the x-coordinate\n",
    "        i_mirrored = apply_mirror_boundary_conditions(i_window_corner + i, nrows)\n",
    "        for j in range(window_size):\n",
    "            # Same for the y-coordinate\n",
    "            j_mirrored = apply_mirror_boundary_conditions(j_window_corner + j, ncols)\n",
    "            # Fill in the window with the corresponding pixel\n",
    "            window[i, j, :] = image[i_mirrored, j_mirrored, :]\n",
    "    return window"
   ]
  },
  {
   "cell_type": "code",
   "execution_count": 8,
   "metadata": {},
   "outputs": [],
   "source": [
    "def shift_to_the_right(image, window, corner_coordinates, patch_size):\n",
    "    nrows, ncols, _ = image.shape\n",
    "    window_size = len(window)\n",
    "    #window_radius = window_size/2\n",
    "    border_size = (window_size - patch_size)/2\n",
    "    i_patch_corner, j_patch_corner = (corner_coordinates[0], corner_coordinates[1])\n",
    "    i_window_corner, j_window_corner = (i_patch_corner - border_size, j_patch_corner - border_size)\n",
    "    step = patch_size\n",
    "    \n",
    "    shifted = np.roll(window, -step, axis=1)\n",
    "    for i in range(window_size):\n",
    "        i_mirrored = apply_mirror_boundary_conditions(i_window_corner + i, nrows)            \n",
    "        for j in range(window_size-step, window_size):\n",
    "            j_mirrored = apply_mirror_boundary_conditions(j_window_corner + j + step, ncols)\n",
    "            shifted[i, j, :] = image[i_mirrored, j_mirrored, :]\n",
    "    return shifted\n",
    "\n",
    "def shift_to_the_bottom(image, window, corner_coordinates, patch_size):\n",
    "    nrows, ncols, _ = image.shape\n",
    "    window_size = len(window)\n",
    "    #window_radius = window_size/2\n",
    "    border_size = (window_size - patch_size)/2\n",
    "    i_patch_corner, j_patch_corner = (corner_coordinates[0], corner_coordinates[1])\n",
    "    i_window_corner, j_window_corner = (i_patch_corner - border_size, j_patch_corner - border_size)\n",
    "    step = patch_size\n",
    "    \n",
    "    shifted = np.roll(window, -step, axis=0)\n",
    "    for j in range(window_size):\n",
    "        j_mirrored = apply_mirror_boundary_conditions(j_window_corner + j, ncols)\n",
    "        for i in range(window_size-step, window_size):\n",
    "            i_mirrored = apply_mirror_boundary_conditions(i_window_corner + i + step, nrows)\n",
    "            shifted[i, j, :] = image[i_mirrored, j_mirrored, :]\n",
    "    return shifted\n",
    "\n",
    "def sliding_window(image, window_size, patch_size):\n",
    "    \"\"\"\n",
    "    Construct a list of sliding windows of given size on an image.\n",
    "    The windows, centered on a patch, will slide from left to right and from up to down.\n",
    "        image: a numpy array representing our image\n",
    "        window_size: an even number specifying the size of the window\n",
    "        patch_size: the size of the central patch\n",
    "    \"\"\"\n",
    "    nrows, ncols, _ = image.shape\n",
    "    windows = []\n",
    "    i = 0\n",
    "    row_windows = [get_window(image, window_size, [i, 0], patch_size)]\n",
    "    for j in range(patch_size, ncols-1, patch_size):\n",
    "        #print(j)\n",
    "        row_windows += [shift_to_the_right(image, row_windows[-1], [i, j], patch_size)]\n",
    "    windows += row_windows\n",
    "    #print('===')\n",
    "    for i in range(patch_size, nrows-1, patch_size):\n",
    "        #print(i)\n",
    "        row_windows = [shift_to_the_bottom(image, row_windows[int(j/patch_size)], [i, j], patch_size) \n",
    "                       for j in range(0, ncols-1, patch_size)]\n",
    "        #print(len(row_windows))\n",
    "        windows += row_windows\n",
    "    return windows"
   ]
  },
  {
   "cell_type": "code",
   "execution_count": 9,
   "metadata": {},
   "outputs": [],
   "source": [
    "def enhance(train_data):\n",
    "    #print(len(train_data), train_data[0].shape)\n",
    "    data_copy = list(train_data)\n",
    "    \n",
    "    train_data += [np.rot90(im) for im in data_copy]\n",
    "    train_data += [np.rot90(im, k=2) for im in data_copy]\n",
    "    train_data += [np.rot90(im, k=3) for im in data_copy]\n",
    "    train_data += [np.fliplr(im) for im in data_copy]\n",
    "    train_data += [np.flipud(im) for im in data_copy]\n",
    "    train_data += [np.transpose(im, (1,0,2)) for im in data_copy]\n",
    "    \n",
    "    del data_copy\n",
    "    gc.collect()\n",
    "\n",
    "    return train_data"
   ]
  },
  {
   "cell_type": "code",
   "execution_count": 10,
   "metadata": {},
   "outputs": [],
   "source": [
    "def compute(img_train, train_labels, window_size, patch_size):\n",
    "    train_data = []\n",
    "    nb_windows = (IMG_SIZE/patch_size)**2\n",
    "    i = 0\n",
    "    for im in img_train:\n",
    "        print(i)\n",
    "        #w_im = enhance(sliding_window(im, window_size, patch_size))\n",
    "        w_im = sliding_window(im, window_size, patch_size)\n",
    "        #w_labels = sliding_window(labels[:, :, np.newaxis], window_size, step)\n",
    "        train_data += w_im\n",
    "        i += 1\n",
    "        #train_labels += w_labels\n",
    "        #path = './windows_train_patch/' + str(i)\n",
    "        #os.makedirs(path, exist_ok=True)\n",
    "        #for wi, j in zip(w_im, range(len(w_im))):\n",
    "            #img_name = path + '/im_' + str(j) + '.png'\n",
    "            #plt.imsave(img_name, wi)\n",
    "            #label_name = path + '/label_' + str(j) + '.png'\n",
    "            #plt.imsave(label_name, wl[:,:,0])\n",
    "    #train_labels *= 7\n",
    "    \n",
    "    return np.asarray(train_data).reshape((len(train_labels), window_size, window_size, 3)), np.asarray(train_labels)"
   ]
  },
  {
   "cell_type": "code",
   "execution_count": 11,
   "metadata": {},
   "outputs": [],
   "source": [
    "#img_train, label_train = compute(img_train, label_train, WINDOW_SIZE, PATCH_SIZE)"
   ]
  },
  {
   "cell_type": "code",
   "execution_count": 12,
   "metadata": {
    "scrolled": false
   },
   "outputs": [],
   "source": [
    "#a = np.array(range(10*10))\n",
    "#a = a.reshape((10, 10))\n",
    "#print(a)\n",
    "#aa = get_window(a[:,:,np.newaxis], 5, [5,5])[:,:,0]\n",
    "#print('\\n')\n",
    "#print(aa)\n",
    "#print('\\n')\n",
    "#print(shift_to_the_bottom(a[:,:,np.newaxis], aa[:,:,np.newaxis], [5,5], 2)[:,:,0])"
   ]
  },
  {
   "cell_type": "markdown",
   "metadata": {},
   "source": [
    "# Neural networks"
   ]
  },
  {
   "cell_type": "code",
   "execution_count": 13,
   "metadata": {},
   "outputs": [],
   "source": [
    "NUM_CHANNELS = 3 # RGB images\n",
    "PIXEL_DEPTH = 255\n",
    "NUM_LABELS = 2\n",
    "#IMG_PATCH_SIZE = 52\n",
    "#TRAINING_SIZE = 62500\n",
    "BATCH_SIZE = 32\n",
    "NUM_EPOCHS = 15\n",
    "a = 0.00"
   ]
  },
  {
   "cell_type": "code",
   "execution_count": 14,
   "metadata": {},
   "outputs": [
    {
     "name": "stderr",
     "output_type": "stream",
     "text": [
      "Using TensorFlow backend.\n"
     ]
    }
   ],
   "source": [
    "import keras\n",
    "from keras.models import Model, Sequential\n",
    "from keras.layers import Dense, Dropout, Flatten, LeakyReLU, Input, Reshape, Permute, Average\n",
    "from keras.layers import Conv2D, MaxPooling2D, Concatenate, Lambda, Activation, GlobalAveragePooling2D, Conv2DTranspose, GlobalAveragePooling1D\n",
    "from keras.optimizers import SGD, Adam"
   ]
  },
  {
   "cell_type": "code",
   "execution_count": 15,
   "metadata": {},
   "outputs": [],
   "source": [
    "def model0(IMG_PATCH_SIZE, TRAINING_SIZE):\n",
    "    model0 = Sequential()\n",
    "    model0.add(Conv2D(32, 2, input_shape=(IMG_PATCH_SIZE, IMG_PATCH_SIZE, NUM_CHANNELS)))\n",
    "    model0.add(LeakyReLU(alpha=a))\n",
    "    model0.add(Conv2D(32, 2))\n",
    "    model0.add(LeakyReLU(alpha=a))\n",
    "    model0.add(MaxPooling2D(pool_size=(2, 2)))\n",
    "    model0.add(Dropout(0.25))\n",
    "\n",
    "    model0.add(Conv2D(64, 2))\n",
    "    model0.add(LeakyReLU(alpha=a))\n",
    "    model0.add(Conv2D(64, 2))\n",
    "    model0.add(LeakyReLU(alpha=a))\n",
    "    model0.add(MaxPooling2D(pool_size=(2, 2)))\n",
    "    model0.add(Dropout(0.25))\n",
    "\n",
    "    model0.add(Flatten())\n",
    "    model0.add(Dense(128))\n",
    "    model0.add(Dropout(0.5))\n",
    "    model0.add(LeakyReLU(alpha=a))\n",
    "    model0.add(Dense(1, activation='sigmoid'))\n",
    "    \n",
    "    return model0"
   ]
  },
  {
   "cell_type": "code",
   "execution_count": 16,
   "metadata": {},
   "outputs": [],
   "source": [
    "from keras.engine.topology import Layer\n",
    "def fire(x, squeeze, expand):\n",
    "    x = Conv2D(squeeze, 1)(x)\n",
    "    x = LeakyReLU(alpha=a)(x)\n",
    "    e11 = Conv2D(expand, 1)(x)\n",
    "    e11 = LeakyReLU(alpha=a)(e11)\n",
    "    e33 = Conv2D(expand, 1)(x)\n",
    "    e33 = LeakyReLU(alpha=a)(e33)\n",
    "    return Concatenate(axis=3)([e11, e33])"
   ]
  },
  {
   "cell_type": "code",
   "execution_count": 17,
   "metadata": {},
   "outputs": [],
   "source": [
    "def model1(IMG_PATCH_SIZE, TRAINING_SIZE):\n",
    "    inputs = Input(shape=(IMG_PATCH_SIZE, IMG_PATCH_SIZE, NUM_CHANNELS))\n",
    "    x = Conv2D(32, kernel_size=3, strides=2, input_shape=(IMG_PATCH_SIZE, IMG_PATCH_SIZE, NUM_CHANNELS))(inputs)\n",
    "    x = LeakyReLU(alpha=a)(x)\n",
    "    x = MaxPooling2D(pool_size=3, strides=2)(x)\n",
    "\n",
    "    x = fire(x, squeeze=8, expand=16)\n",
    "    x = fire(x, squeeze=8, expand=16)\n",
    "    x = MaxPooling2D(pool_size=3, strides=2)(x)\n",
    "\n",
    "    '''x = fire(x, squeeze=32, expand=128)\n",
    "    x = fire(x, squeeze=32, expand=128)\n",
    "    x = MaxPooling2D(pool_size=3, strides=2)(x)\n",
    "\n",
    "    x = fire(x, squeeze=48, expand=192)\n",
    "    x = fire(x, squeeze=48, expand=192)\n",
    "    x = fire(x, squeeze=64, expand=256)\n",
    "    x = fire(x, squeeze=64, expand=256)\n",
    "    x = MaxPooling2D(pool_size=3, strides=2)(x)'''\n",
    "    x = Flatten()(x)\n",
    "    x = Dense(1, activation='sigmoid')(x)\n",
    "\n",
    "    model1 = Model(inputs, x)\n",
    "    return model1"
   ]
  },
  {
   "cell_type": "code",
   "execution_count": 18,
   "metadata": {},
   "outputs": [],
   "source": [
    "def model2(IMG_PATCH_SIZE, TRAINING_SIZE):\n",
    "    model2 = Sequential()\n",
    "    model2.add(Conv2D(32, 2, input_shape=(IMG_PATCH_SIZE, IMG_PATCH_SIZE, NUM_CHANNELS)))\n",
    "    model2.add(LeakyReLU(alpha=a))\n",
    "    model2.add(Conv2D(32, 2))\n",
    "    model2.add(LeakyReLU(alpha=a))\n",
    "    model2.add(MaxPooling2D(pool_size=(2, 2)))\n",
    "    model2.add(Dropout(0.25))\n",
    "\n",
    "    model2.add(Conv2D(64, 2))\n",
    "    model2.add(LeakyReLU(alpha=a))\n",
    "    model2.add(Conv2D(64, 2))\n",
    "    model2.add(LeakyReLU(alpha=a))\n",
    "    model2.add(MaxPooling2D(pool_size=(2, 2)))\n",
    "    model2.add(Dropout(0.25))\n",
    "\n",
    "    model2.add(Conv2D(2, 1))\n",
    "    model2.add(Conv2DTranspose(1, kernel_size=IMG_PATCH_SIZE - 1, padding='valid'))\n",
    "    #model.add(Reshape((-1, IMG_PATCH_SIZE * IMG_PATCH_SIZE)))\n",
    "    #model.add(Permute((2,1)))\n",
    "    model2.add(GlobalAveragePooling2D())\n",
    "    model2.add(Activation('sigmoid'))\n",
    "    return model2"
   ]
  },
  {
   "cell_type": "code",
   "execution_count": 19,
   "metadata": {},
   "outputs": [],
   "source": [
    "#for layer in model.layers:\n",
    "    #print(layer.input_shape,layer.output_shape )"
   ]
  },
  {
   "cell_type": "code",
   "execution_count": 20,
   "metadata": {},
   "outputs": [],
   "source": [
    "def f1(y_true, y_pred):\n",
    "    def recall(y_true, y_pred):\n",
    "        \"\"\"Recall metric.\n",
    "\n",
    "        Only computes a batch-wise average of recall.\n",
    "\n",
    "        Computes the recall, a metric for multi-label classification of\n",
    "        how many relevant items are selected.\n",
    "        \"\"\"\n",
    "        true_positives = K.sum(K.round(K.clip(y_true * y_pred, 0, 1)))\n",
    "        possible_positives = K.sum(K.round(K.clip(y_true, 0, 1)))\n",
    "        recall = true_positives / (possible_positives + K.epsilon())\n",
    "        return recall\n",
    "\n",
    "    def precision(y_true, y_pred):\n",
    "        \"\"\"Precision metric.\n",
    "\n",
    "        Only computes a batch-wise average of precision.\n",
    "\n",
    "        Computes the precision, a metric for multi-label classification of\n",
    "        how many selected items are relevant.\n",
    "        \"\"\"\n",
    "        true_positives = K.sum(K.round(K.clip(y_true * y_pred, 0, 1)))\n",
    "        predicted_positives = K.sum(K.round(K.clip(y_pred, 0, 1)))\n",
    "        precision = true_positives / (predicted_positives + K.epsilon())\n",
    "        return precision\n",
    "    precision = precision(y_true, y_pred)\n",
    "    recall = recall(y_true, y_pred)\n",
    "    return 2*((precision*recall)/(precision+recall))"
   ]
  },
  {
   "cell_type": "markdown",
   "metadata": {},
   "source": [
    "# Grid search"
   ]
  },
  {
   "cell_type": "markdown",
   "metadata": {},
   "source": [
    "best_window_size = np.nan\n",
    "best_model = np.nan\n",
    "best_score = 0\n",
    "\n",
    "LR = 0.001\n",
    "DECAY = 0.00000\n",
    "adam = Adam(lr=LR, decay=DECAY)\n",
    "\n",
    "for window_size in range(30, 60, 2):\n",
    "    imgs, labels = compute(img_train, label_train, window_size, PATCH_SIZE)\n",
    "    training_size = imgs.shape[0]\n",
    "    num_model = 0\n",
    "    for model in [model0(window_size, training_size)]:#, model1(window_size, training_size), model2(window_size, training_size)]:\n",
    "        model.compile(loss='binary_crossentropy', optimizer=adam, metrics=[f1])\n",
    "        model.fit(imgs, labels, batch_size=BATCH_SIZE, epochs=NUM_EPOCHS)\n",
    "        score = model.evaluate(train, labels)[1]\n",
    "        if score > best_score:\n",
    "            best_score = score\n",
    "            best_model = num_model\n",
    "            best_window_size = window_size\n",
    "        num_model += 1"
   ]
  },
  {
   "cell_type": "code",
   "execution_count": 224,
   "metadata": {},
   "outputs": [],
   "source": [
    "from keras import backend as K\n",
    "\n",
    "def f1(y_true, y_pred):\n",
    "    def recall(y_true, y_pred):\n",
    "        \"\"\"Recall metric.\n",
    "\n",
    "        Only computes a batch-wise average of recall.\n",
    "\n",
    "        Computes the recall, a metric for multi-label classification of\n",
    "        how many relevant items are selected.\n",
    "        \"\"\"\n",
    "        true_positives = K.sum(K.round(K.clip(y_true * y_pred, 0, 1)))\n",
    "        possible_positives = K.sum(K.round(K.clip(y_true, 0, 1)))\n",
    "        recall = true_positives / (possible_positives + K.epsilon())\n",
    "        return recall\n",
    "\n",
    "    def precision(y_true, y_pred):\n",
    "        \"\"\"Precision metric.\n",
    "\n",
    "        Only computes a batch-wise average of precision.\n",
    "\n",
    "        Computes the precision, a metric for multi-label classification of\n",
    "        how many selected items are relevant.\n",
    "        \"\"\"\n",
    "        true_positives = K.sum(K.round(K.clip(y_true * y_pred, 0, 1)))\n",
    "        predicted_positives = K.sum(K.round(K.clip(y_pred, 0, 1)))\n",
    "        precision = true_positives / (predicted_positives + K.epsilon())\n",
    "        return precision\n",
    "    precision = precision(y_true, y_pred)\n",
    "    recall = recall(y_true, y_pred)\n",
    "    return 2*((precision*recall)/(precision+recall))\n"
   ]
  },
  {
   "cell_type": "code",
   "execution_count": 228,
   "metadata": {
    "scrolled": true
   },
   "outputs": [
    {
     "name": "stdout",
     "output_type": "stream",
     "text": [
      "0\n",
      "1\n",
      "2\n",
      "3\n",
      "4\n",
      "5\n",
      "6\n",
      "7\n",
      "8\n",
      "9\n",
      "10\n",
      "11\n",
      "12\n",
      "13\n",
      "14\n",
      "15\n",
      "16\n",
      "17\n",
      "18\n",
      "19\n",
      "20\n",
      "21\n",
      "22\n",
      "23\n",
      "24\n",
      "25\n",
      "26\n",
      "27\n",
      "28\n",
      "29\n",
      "30\n",
      "31\n",
      "32\n",
      "33\n",
      "34\n",
      "35\n",
      "36\n",
      "37\n",
      "38\n",
      "39\n",
      "40\n",
      "41\n",
      "42\n",
      "43\n",
      "44\n",
      "45\n",
      "46\n",
      "47\n",
      "48\n",
      "49\n",
      "50\n",
      "51\n",
      "52\n",
      "53\n",
      "54\n",
      "55\n",
      "56\n",
      "57\n",
      "58\n",
      "59\n",
      "60\n",
      "61\n",
      "62\n",
      "63\n",
      "64\n",
      "65\n",
      "66\n",
      "67\n",
      "68\n",
      "69\n",
      "70\n",
      "71\n",
      "72\n",
      "73\n",
      "74\n",
      "75\n",
      "76\n",
      "77\n",
      "78\n",
      "79\n",
      "80\n",
      "81\n",
      "82\n",
      "83\n",
      "84\n",
      "85\n",
      "86\n",
      "87\n",
      "88\n",
      "89\n",
      "90\n",
      "91\n",
      "92\n",
      "93\n",
      "94\n",
      "95\n",
      "96\n",
      "97\n",
      "98\n",
      "99\n"
     ]
    }
   ],
   "source": [
    "imgs, labels = compute(img_train, label_train, 16, PATCH_SIZE)"
   ]
  },
  {
   "cell_type": "code",
   "execution_count": 229,
   "metadata": {
    "scrolled": true
   },
   "outputs": [
    {
     "name": "stderr",
     "output_type": "stream",
     "text": [
      "C:\\Users\\MATT\\Anaconda3\\lib\\site-packages\\keras\\models.py:288: UserWarning: Error in loading the saved optimizer state. As a result, your model is starting with a freshly initialized optimizer.\n",
      "  warnings.warn('Error in loading the saved optimizer '\n"
     ]
    }
   ],
   "source": [
    "#path = 'FCN_W32_noenh.h5'\n",
    "path = 'FCN_16_enh.h5'\n",
    "model = keras.models.load_model(path,custom_objects={'f1_score':f1})"
   ]
  },
  {
   "cell_type": "code",
   "execution_count": 230,
   "metadata": {},
   "outputs": [],
   "source": [
    "predictions = model.predict(imgs)"
   ]
  },
  {
   "cell_type": "code",
   "execution_count": 252,
   "metadata": {},
   "outputs": [],
   "source": [
    "def patch_predictions(predictions):\n",
    "    predictions[predictions < 0.5] = 0\n",
    "    predictions[predictions > 0] = 1\n",
    "    nb_predictions = int(len(predictions)/NUM_IMAGES)\n",
    "    pred = []\n",
    "    for i in range(0, len(predictions), k):\n",
    "        pred += [predictions[i:i+k].reshape((25, 25))]\n",
    "    return pred"
   ]
  },
  {
   "cell_type": "code",
   "execution_count": 253,
   "metadata": {},
   "outputs": [],
   "source": [
    "import scipy\n",
    "from scipy import ndimage\n",
    "import matplotlib.pyplot as plt\n",
    "\n",
    "def remove_small_pieces(predictions, thresh_size=4):\n",
    "    modified = []\n",
    "    for p in predictions:\n",
    "        # find connected components\n",
    "        labeled, nr_objects = ndimage.label(p) \n",
    "        #print(nr_objects)\n",
    "        areas = [len(np.where(labeled == i)[0]) for i in range(1, nr_objects+1)]\n",
    "        #print(areas)\n",
    "        smallest = np.where(np.array(areas) <= thresh_size)[0]\n",
    "        #print(smallest)\n",
    "        for i in smallest:\n",
    "            labeled[np.where(labeled == i+1)] = 0\n",
    "        modified += [labeled]\n",
    "    return modified"
   ]
  },
  {
   "cell_type": "code",
   "execution_count": 254,
   "metadata": {},
   "outputs": [],
   "source": [
    "def check_road(list_, length_road, max_hole):\n",
    "    N = len(list_)\n",
    "    roads = []\n",
    "    end = []\n",
    "    for i in range(N-length_road):\n",
    "        #print(np.all(list_[i:i+length_road] > 0))\n",
    "        roads += [np.all(list_[i:i+length_road] > 0)]\n",
    "    for i in range(N, 0, -1):\n",
    "        end += [np.all(list_[i-length_road:i] > 0)]\n",
    "    roads += end[:length_road]\n",
    "    roads = fill_holes(roads, max_hole)\n",
    "    return roads\n",
    "\n",
    "def fill_holes(list_, max_hole):\n",
    "    idx = np.where(np.array(list_))[0]\n",
    "    distances = idx[1:] - idx[0:-1]\n",
    "    tofill = np.where(distances <= max_hole)[0]\n",
    "    for i in tofill:\n",
    "        list_[i] = True\n",
    "    return list_"
   ]
  },
  {
   "cell_type": "code",
   "execution_count": 350,
   "metadata": {},
   "outputs": [],
   "source": [
    "def detect_roads(predictions, length_road=5, max_hole=4):\n",
    "    modified = []\n",
    "    for p in predictions:\n",
    "        L = []\n",
    "        C = []\n",
    "        for i in range(len(p)):\n",
    "            L += [check_road(p[i, :], length_road, max_hole)]\n",
    "            C += [check_road(p[:, i], length_road, max_hole)]\n",
    "        L = np.asarray(L)\n",
    "        C = np.asarray(C).T\n",
    "        #print(L.shape, C.shape)\n",
    "        roads = (L+C).astype(int)\n",
    "        modified += [roads.T]\n",
    "    return modified"
   ]
  },
  {
   "cell_type": "code",
   "execution_count": 256,
   "metadata": {},
   "outputs": [],
   "source": [
    "def treat_predictions(predictions):\n",
    "    return remove_small_pieces(detect_roads(patch_predictions(predictions))), detect_roads(remove_small_pieces(patch_predictions(predictions)))"
   ]
  },
  {
   "cell_type": "code",
   "execution_count": 257,
   "metadata": {},
   "outputs": [],
   "source": [
    "pred_mod1, pred_mod2 = np.asarray(treat_predictions(predictions))"
   ]
  },
  {
   "cell_type": "code",
   "execution_count": 258,
   "metadata": {},
   "outputs": [],
   "source": [
    "pred_mod1[pred_mod1 > 0] = 1\n",
    "pred_mod2[pred_mod2 > 0] = 1"
   ]
  },
  {
   "cell_type": "code",
   "execution_count": 259,
   "metadata": {},
   "outputs": [],
   "source": [
    "y_train = np.asarray(patch_predictions(labels))\n",
    "pred = np.asarray(patch_predictions(predictions)).astype(int)\n",
    "pred = np.transpose(pred, (0,2,1))"
   ]
  },
  {
   "cell_type": "code",
   "execution_count": 288,
   "metadata": {},
   "outputs": [
    {
     "name": "stdout",
     "output_type": "stream",
     "text": [
      "0.80986204025 0.839438421969 0.834165798626\n"
     ]
    }
   ],
   "source": [
    "from sklearn.metrics import f1_score\n",
    "\n",
    "f1_pred = 0\n",
    "f1_mod1 = 0\n",
    "f1_mod2 = 0\n",
    "\n",
    "for i in range(y_train.shape[0]):\n",
    "    f1_pred += f1_score(1-y_train[i].ravel(), 1-pred[i].ravel())\n",
    "    f1_mod1 += f1_score(1-y_train[i].ravel(), 1-pred_mod1[i].ravel())\n",
    "    f1_mod2 += f1_score(1-y_train[i].ravel(), 1-pred_mod2[i].ravel())\n",
    "\n",
    "f1_pred /= y_train.shape[0]\n",
    "f1_mod1 /= y_train.shape[0]\n",
    "f1_mod2 /= y_train.shape[0]\n",
    "\n",
    "print(f1_pred, f1_mod1, f1_mod2)"
   ]
  },
  {
   "cell_type": "code",
   "execution_count": 289,
   "metadata": {},
   "outputs": [
    {
     "name": "stdout",
     "output_type": "stream",
     "text": [
      "0.851358397402 (4, 6, 1)\n"
     ]
    }
   ],
   "source": [
    "score = 0\n",
    "best_params = (0, 0, 0)\n",
    "\n",
    "for area in range(1, 5):\n",
    "    for road in range(1, 7):\n",
    "        for hole in range(1, 7):\n",
    "            e = np.asarray(remove_small_pieces(detect_roads(patch_predictions(predictions), road, hole), area))\n",
    "            e[e > 0] = 1\n",
    "            f1 = 0\n",
    "            for i in range(y_train.shape[0]):\n",
    "                f1 += f1_score(1-y_train[i].ravel(), 1-e[i].ravel())\n",
    "            f1 /= y_train.shape[0]\n",
    "            if f1 > score:\n",
    "                score = f1\n",
    "                best_params = (area, road, hole)\n",
    "\n",
    "print(score, best_params)"
   ]
  },
  {
   "cell_type": "code",
   "execution_count": 290,
   "metadata": {},
   "outputs": [],
   "source": [
    "a = np.asarray(remove_small_pieces(detect_roads(patch_predictions(predictions), best_params[1], best_params[2]), best_params[0]))\n",
    "a[a > 0] = 1"
   ]
  },
  {
   "cell_type": "code",
   "execution_count": 297,
   "metadata": {},
   "outputs": [
    {
     "data": {
      "text/plain": [
       "<matplotlib.image.AxesImage at 0x1b9054039b0>"
      ]
     },
     "execution_count": 297,
     "metadata": {},
     "output_type": "execute_result"
    },
    {
     "data": {
      "image/png": "[encoded data removed]",
      "text/plain": [
       "<matplotlib.figure.Figure at 0x1b9053c0a90>"
      ]
     },
     "metadata": {},
     "output_type": "display_data"
    }
   ],
   "source": [
    "plt.imshow(a[77, :, :])"
   ]
  },
  {
   "cell_type": "markdown",
   "metadata": {},
   "source": [
    "# Test"
   ]
  },
  {
   "cell_type": "code",
   "execution_count": 306,
   "metadata": {},
   "outputs": [
    {
     "name": "stdout",
     "output_type": "stream",
     "text": [
      "(50, 608, 608, 3)\n"
     ]
    }
   ],
   "source": [
    "# Directory and files name\n",
    "test_dir = \"test_set_images/\"\n",
    "\n",
    "test_image_files = os.listdir(test_dir)\n",
    "\n",
    "# Number of testing samples\n",
    "N = len(test_image_files)\n",
    "\n",
    "# Load the images and ground truth\n",
    "img_test = []\n",
    "for i in range(N):\n",
    "    img = mpimg.imread(test_dir + test_image_files[i] + '/' + test_image_files[i] + '.png')\n",
    "    \n",
    "    img_test.append(img)\n",
    "\n",
    "img_test = np.asarray(img_test)\n",
    "\n",
    "print(img_test.shape)"
   ]
  },
  {
   "cell_type": "code",
   "execution_count": 330,
   "metadata": {
    "scrolled": true
   },
   "outputs": [],
   "source": [
    "imgs = np.asarray(img_crop(img_test[0], PATCH_SIZE, PATCH_SIZE))"
   ]
  },
  {
   "cell_type": "code",
   "execution_count": 342,
   "metadata": {},
   "outputs": [],
   "source": [
    "predictions = model.predict(imgs)\n",
    "pred = label_to_img(608, 608, 16, 16, predictions)"
   ]
  },
  {
   "cell_type": "code",
   "execution_count": 364,
   "metadata": {},
   "outputs": [],
   "source": [
    "a = np.asarray(remove_small_pieces(detect_roads([pred], best_params[1]*2, best_params[2]*2), best_params[0]*2))\n",
    "a[a > 0] = 1"
   ]
  },
  {
   "cell_type": "code",
   "execution_count": 401,
   "metadata": {},
   "outputs": [
    {
     "data": {
      "text/plain": [
       "<matplotlib.image.AxesImage at 0x1b90c719908>"
      ]
     },
     "execution_count": 401,
     "metadata": {},
     "output_type": "execute_result"
    },
    {
     "data": {
      "image/png": "[encoded data removed]",
      "text/plain": [
       "<matplotlib.figure.Figure at 0x1b90c6844a8>"
      ]
     },
     "metadata": {},
     "output_type": "display_data"
    }
   ],
   "source": [
    "plt.imshow(pred)"
   ]
  },
  {
   "cell_type": "code",
   "execution_count": 416,
   "metadata": {},
   "outputs": [],
   "source": [
    "import cv2\n",
    "\n",
    "kernel = np.ones((5,5))\n",
    "k2 = np.ones((20,20))\n",
    "k3 = cv2.getStructuringElement(cv2.MORPH_ELLIPSE,(5,5))\n",
    "\n",
    "closing = cv2.morphologyEx(pred.astype(np.float32), cv2.MORPH_CLOSE, k2)\n",
    "erosion = cv2.erode(closing, kernel, iterations = 1)\n",
    "opening = cv2.morphologyEx(erosion, cv2.MORPH_OPEN, kernel)"
   ]
  },
  {
   "cell_type": "code",
   "execution_count": 422,
   "metadata": {},
   "outputs": [],
   "source": [
    "a = np.asarray(remove_small_pieces(detect_roads([erosion], best_params[1], best_params[2]), best_params[0]))\n",
    "a[a > 0] = 1"
   ]
  },
  {
   "cell_type": "code",
   "execution_count": 423,
   "metadata": {},
   "outputs": [
    {
     "data": {
      "text/plain": [
       "<matplotlib.image.AxesImage at 0x1b90d5ac390>"
      ]
     },
     "execution_count": 423,
     "metadata": {},
     "output_type": "execute_result"
    },
    {
     "data": {
      "image/png": "[encoded data removed]",
      "text/plain": [
       "<matplotlib.figure.Figure at 0x1b90d5219e8>"
      ]
     },
     "metadata": {},
     "output_type": "display_data"
    }
   ],
   "source": [
    "plt.imshow(a[0].T)"
   ]
  }
 ],
 "metadata": {
  "kernelspec": {
   "display_name": "Python [conda root]",
   "language": "python",
   "name": "conda-root-py"
  },
  "language_info": {
   "codemirror_mode": {
    "name": "ipython",
    "version": 3
   },
   "file_extension": ".py",
   "mimetype": "text/x-python",
   "name": "python",
   "nbconvert_exporter": "python",
   "pygments_lexer": "ipython3",
   "version": "3.6.0"
  }
 },
 "nbformat": 4,
 "nbformat_minor": 2
}
