{
 "cells": [
  {
   "cell_type": "code",
   "execution_count": 1,
   "metadata": {},
   "outputs": [],
   "source": [
    "%matplotlib inline\n",
    "\n",
    "import os,sys\n",
    "\n",
    "import matplotlib.image as mpimg\n",
    "import matplotlib.pyplot as plt\n",
    "from PIL import Image\n",
    "import numpy as np\n",
    "\n",
    "import torch\n",
    "from torch.autograd import Variable\n",
    "\n",
    "import timeit\n",
    "\n",
    "%load_ext autoreload\n",
    "%autoreload 2"
   ]
  },
  {
   "cell_type": "code",
   "execution_count": 2,
   "metadata": {},
   "outputs": [],
   "source": [
    "def apply_mirror_boundary_conditions(coord, dim):\n",
    "    \"\"\"\n",
    "    Return the correct coordinate according to mirror boundary conditions\n",
    "        coord: a coordinate (x or y) in the image\n",
    "        dim: the length of the axis of said coordinate\n",
    "    \"\"\"\n",
    "    # If the coordinate is outside of the bounds of the axis, take its reflection inside the image\n",
    "    if coord < 0:\n",
    "        coord = -coord\n",
    "    elif coord >= dim:\n",
    "        coord =  2*(dim-1) - coord % (2*(dim-1))\n",
    "    # Else, do nothing\n",
    "    return int(coord)\n",
    "\n",
    "def get_window(image, window_size, centre_coordinates):\n",
    "    \"\"\"\n",
    "    Get a window in image taking into account boundary conditions\n",
    "        image: a numpy array representing our image\n",
    "        window_size: an odd number specifying the size of the window\n",
    "        centre_coordinates: a list containing the x-y coordinates of the window's central pixel\n",
    "    \"\"\"\n",
    "    # Get convenient variables\n",
    "    window_radius = (window_size - 1)/2\n",
    "    i_centre, j_centre = (centre_coordinates[0], centre_coordinates[1])\n",
    "    nrows, ncols = image.shape\n",
    "    window = np.zeros((window_size, window_size))\n",
    "    # Fill in the window array with pixels of the image\n",
    "    for i in range(window_size):\n",
    "        # Apply mirror boundary conditions on the x-coordinate\n",
    "        i_mirrored = apply_mirror_boundary_conditions(i_centre + i - window_radius, nrows)\n",
    "        for j in range(window_size):\n",
    "            # Same for the y-coordinate\n",
    "            j_mirrored = apply_mirror_boundary_conditions(j_centre + j - window_radius, ncols)\n",
    "            # Fill in the window with the corresponding pixel\n",
    "            window[i, j] = image[i_mirrored, j_mirrored]\n",
    "    return window"
   ]
  },
  {
   "cell_type": "code",
   "execution_count": 3,
   "metadata": {},
   "outputs": [],
   "source": [
    "def shift_to_the_right(image, window, centre_coordinates, step=1):\n",
    "    nrows, ncols = image.shape\n",
    "    window_size = len(window)\n",
    "    window_radius = (window_size - 1)/2\n",
    "    j_mirrored = apply_mirror_boundary_conditions(centre_coordinates[1] + step + window_radius, ncols)\n",
    "    shifted = np.roll(window, -step, axis=1)\n",
    "    for i in range(window_size):\n",
    "        i_mirrored = apply_mirror_boundary_conditions(centre_coordinates[0] + i - window_radius, nrows)\n",
    "        shifted[i, -1] = image[i_mirrored, j_mirrored]\n",
    "    return shifted\n",
    "\n",
    "def shift_to_the_bottom(image, window, centre_coordinates, step=1):\n",
    "    nrows, ncols = image.shape\n",
    "    window_size = len(window)\n",
    "    window_radius = (window_size - 1)/2\n",
    "    i_mirrored = apply_mirror_boundary_conditions(centre_coordinates[0] + step + window_radius, nrows)\n",
    "    shifted = np.roll(window, -step, axis=0)\n",
    "    for j in range(window_size):\n",
    "        j_mirrored = apply_mirror_boundary_conditions(centre_coordinates[1] + j - window_radius, ncols)\n",
    "        shifted[-1, j] = image[i_mirrored, j_mirrored]\n",
    "    return shifted\n",
    "\n",
    "def sliding_window(image, window_size, step=1):\n",
    "    \"\"\"\n",
    "    Construct a list of sliding windows of given size on an image.\n",
    "    The windows will slide from left to right and from up to down.\n",
    "        image: a numpy array representing our image\n",
    "        window_size: an odd number specifying the size of the window\n",
    "        step: the value of the shift between windows\n",
    "    \"\"\"\n",
    "    nrows, ncols = image.shape\n",
    "    windows = []\n",
    "    i = 0\n",
    "    row_windows = [get_window(image, window_size, [i, 0])]\n",
    "    for j in range(0, ncols-1, step):\n",
    "        row_windows += [shift_to_the_right(image, row_windows[-1], [i, j], step)]\n",
    "    windows += row_windows\n",
    "    for i in range(0, nrows-1, step):\n",
    "        row_windows = [shift_to_the_bottom(image, row_windows[j], [i, j], step) for j in range(ncols)]\n",
    "        windows += row_windows\n",
    "    return windows"
   ]
  },
  {
   "cell_type": "code",
   "execution_count": 4,
   "metadata": {},
   "outputs": [
    {
     "name": "stdout",
     "output_type": "stream",
     "text": [
      "[[1 2 3]\n",
      " [4 5 6]\n",
      " [7 8 9]]\n",
      "[[ 4.  5.  6.]\n",
      " [ 1.  2.  3.]\n",
      " [ 4.  5.  6.]]\n",
      "[[ 5.  6.  5.]\n",
      " [ 2.  3.  2.]\n",
      " [ 5.  6.  5.]]\n",
      "[[ 1.  2.  3.]\n",
      " [ 4.  5.  6.]\n",
      " [ 7.  8.  9.]]\n"
     ]
    }
   ],
   "source": [
    "## Tests\n",
    "\n",
    "a = np.array([[1,2,3],[4,5,6],[7,8,9]])\n",
    "print(a)\n",
    "w = get_window(a, 3, [0,1])\n",
    "print(w)\n",
    "w_right = shift_to_the_right(a, w, [0,1])\n",
    "print(w_right)\n",
    "w_bottom = shift_to_the_bottom(a, w, [0,1])\n",
    "print(w_bottom)"
   ]
  },
  {
   "cell_type": "code",
   "execution_count": 5,
   "metadata": {},
   "outputs": [
    {
     "name": "stdout",
     "output_type": "stream",
     "text": [
      "[[ 5.  4.  5.]\n",
      " [ 2.  1.  2.]\n",
      " [ 5.  4.  5.]]\n",
      "\n",
      "\n",
      "[[ 4.  5.  6.]\n",
      " [ 1.  2.  3.]\n",
      " [ 4.  5.  6.]]\n",
      "\n",
      "\n",
      "[[ 5.  6.  5.]\n",
      " [ 2.  3.  2.]\n",
      " [ 5.  6.  5.]]\n",
      "\n",
      "\n",
      "[[ 2.  1.  2.]\n",
      " [ 5.  4.  5.]\n",
      " [ 8.  7.  8.]]\n",
      "\n",
      "\n",
      "[[ 1.  2.  3.]\n",
      " [ 4.  5.  6.]\n",
      " [ 7.  8.  9.]]\n",
      "\n",
      "\n",
      "[[ 2.  3.  2.]\n",
      " [ 5.  6.  5.]\n",
      " [ 8.  9.  8.]]\n",
      "\n",
      "\n",
      "[[ 5.  4.  5.]\n",
      " [ 8.  7.  8.]\n",
      " [ 5.  4.  5.]]\n",
      "\n",
      "\n",
      "[[ 4.  5.  6.]\n",
      " [ 7.  8.  9.]\n",
      " [ 4.  5.  6.]]\n",
      "\n",
      "\n",
      "[[ 5.  6.  5.]\n",
      " [ 8.  9.  8.]\n",
      " [ 5.  6.  5.]]\n",
      "\n",
      "\n"
     ]
    }
   ],
   "source": [
    "ww = sliding_window(a, 3)\n",
    "for w in ww:\n",
    "    print(w)\n",
    "    print('\\n')"
   ]
  },
  {
   "cell_type": "code",
   "execution_count": 6,
   "metadata": {},
   "outputs": [
    {
     "name": "stdout",
     "output_type": "stream",
     "text": [
      "(5, 400, 400, 3) (5, 400, 400)\n"
     ]
    }
   ],
   "source": [
    "# Directory and files name\n",
    "train_dir = \"training/\"\n",
    "tr_image_dir = train_dir + \"images/\"\n",
    "tr_label_dir = train_dir + \"groundtruth/\"\n",
    "\n",
    "tr_image_files = os.listdir(tr_image_dir)\n",
    "tr_label_files = os.listdir(tr_label_dir)\n",
    "\n",
    "# Number of training samples\n",
    "N = len(tr_image_files)\n",
    "\n",
    "# Load the images and ground truth\n",
    "img_train = []\n",
    "label_train = []\n",
    "for i in range(N):\n",
    "    img = mpimg.imread(tr_image_dir + tr_image_files[i])\n",
    "    label = mpimg.imread(tr_label_dir + tr_label_files[i])\n",
    "    \n",
    "    img_train.append(img)\n",
    "    label_train.append(label)\n",
    "\n",
    "# Keep only sub-set of images\n",
    "NUM_IMAGES = 5\n",
    "\n",
    "img_train = np.asarray(img_train[:NUM_IMAGES])\n",
    "label_train = np.asarray(label_train[:NUM_IMAGES])\n",
    "\n",
    "print(img_train.shape, label_train.shape)"
   ]
  },
  {
   "cell_type": "code",
   "execution_count": null,
   "metadata": {},
   "outputs": [
    {
     "name": "stdout",
     "output_type": "stream",
     "text": [
      "15.2 s ± 1.12 s per loop (mean ± std. dev. of 7 runs, 1 loop each)\n"
     ]
    }
   ],
   "source": [
    "im = label_train[0]\n",
    "for window_size in [3, 5, 7, 15, 35, 51]:\n",
    "    %timeit sliding_window(im, window_size, step=window_size)"
   ]
  }
 ],
 "metadata": {
  "kernelspec": {
   "display_name": "Python [conda root]",
   "language": "python",
   "name": "conda-root-py"
  },
  "language_info": {
   "codemirror_mode": {
    "name": "ipython",
    "version": 3
   },
   "file_extension": ".py",
   "mimetype": "text/x-python",
   "name": "python",
   "nbconvert_exporter": "python",
   "pygments_lexer": "ipython3",
   "version": "3.6.0"
  }
 },
 "nbformat": 4,
 "nbformat_minor": 2
}
