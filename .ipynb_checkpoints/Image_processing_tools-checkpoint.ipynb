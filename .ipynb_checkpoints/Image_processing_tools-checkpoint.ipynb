{
 "cells": [
  {
   "cell_type": "code",
   "execution_count": 1,
   "metadata": {},
   "outputs": [],
   "source": [
    "def apply_mirror_boundary_conditions(coord, dim):\n",
    "    \"\"\"\n",
    "    Return the correct coordinate according to mirror boundary conditions\n",
    "        coord: a coordinate (x or y) in the image\n",
    "        dim: the length of the axis of said coordinate\n",
    "    \"\"\"\n",
    "    # If the coordinate is outside of the bounds of the axis, take its reflection inside the image\n",
    "    if coord < 0:\n",
    "        coord = -coord\n",
    "    elif coord >= dim:\n",
    "        coord =  2*(dim-1) - coord % (2*(dim-1))\n",
    "    # Else, do nothing\n",
    "    return coord\n",
    "\n",
    "def get_window(image, window_size, centre_coordinates):\n",
    "    \"\"\"\n",
    "    Get a window in image taking into account boundary conditions\n",
    "        image: a numpy array\n",
    "        window_size: an odd number specifying the size of the window\n",
    "        centre_coordinates: a list containing the x-y coordinates of the window's central pixel\n",
    "    \"\"\"\n",
    "    # Get convenient variables\n",
    "    window_radius = (window_size - 1)/2\n",
    "    i_centre, j_centre = (centre_coordinates[0], centre_coordinates[1])\n",
    "    nrows, ncols = image.shape\n",
    "    window = np.zeros(window_size)\n",
    "    # Fill in the window array with pixels of the image\n",
    "    for i in range(window_size):\n",
    "        # Apply mirror boundary conditions on the x-coordinate\n",
    "        i_mirrored = apply_mirror_boundary_conditions(i_centre + i - window_radius, nrows)\n",
    "        for j in range(window_size):\n",
    "            # Same for the y-coordinate\n",
    "            j_mirrored = apply_mirror_boundary_conditions(j_centre + j - window_radius, ncols)\n",
    "            # Fill in the window with the corresponding pixel\n",
    "            window[i, j] = image[i_mirrored, j_mirrored]\n",
    "    return window\n",
    "\n",
    "def sliding_window(image, window_size):\n",
    "    nrows, ncols = image.shape\n",
    "    for i in range(nrows):\n",
    "        for j in range(ncols):\n",
    "            # TODO: do not rebuild the entire window at each loop, some values do not move.\n",
    "            window = get_window(image, window_size, [i, j])"
   ]
  }
 ],
 "metadata": {
  "kernelspec": {
   "display_name": "Python [conda root]",
   "language": "python",
   "name": "conda-root-py"
  },
  "language_info": {
   "codemirror_mode": {
    "name": "ipython",
    "version": 3
   },
   "file_extension": ".py",
   "mimetype": "text/x-python",
   "name": "python",
   "nbconvert_exporter": "python",
   "pygments_lexer": "ipython3",
   "version": "3.6.0"
  }
 },
 "nbformat": 4,
 "nbformat_minor": 2
}
