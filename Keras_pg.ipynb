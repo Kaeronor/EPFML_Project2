{
 "cells": [
  {
   "cell_type": "code",
   "execution_count": 11,
   "metadata": {
    "hide_input": false
   },
   "outputs": [],
   "source": [
    "%matplotlib inline\n",
    "import numpy\n",
    "import numpy as np\n",
    "import keras\n",
    "\n",
    "import os\n",
    "import sys\n",
    "import matplotlib.pyplot as plt\n",
    "import matplotlib.image as mpimg\n",
    "from PIL import Image\n",
    "from sklearn.model_selection import train_test_split\n",
    "from sklearn.metrics import f1_score\n",
    "\n",
    "from keras.models import Model, Sequential\n",
    "from keras.layers import Dense, Dropout, Flatten, LeakyReLU, Input, Reshape, Permute, Average\n",
    "from keras.layers import Conv2D, MaxPooling2D, Concatenate, Lambda, Activation, GlobalAveragePooling2D, Conv2DTranspose, GlobalAveragePooling1D\n",
    "from keras.optimizers import SGD, Adam"
   ]
  },
  {
   "cell_type": "markdown",
   "metadata": {
    "hide_input": true
   },
   "source": [
    "# Data loading and preprocessing\n",
    "### Mostly taken from baseline script given in project description\n",
    "1. Images -> square patches of fixed size \n",
    "2. (?) Extract some features from images"
   ]
  },
  {
   "cell_type": "markdown",
   "metadata": {},
   "source": [
    "## 0. Problem-specific parameters"
   ]
  },
  {
   "cell_type": "code",
   "execution_count": 12,
   "metadata": {},
   "outputs": [],
   "source": [
    "NUM_CHANNELS = 3 # RGB images\n",
    "PIXEL_DEPTH = 255\n",
    "NUM_LABELS = 2\n",
    "IMG_SIZE = 400\n",
    "PATCH_SIZE = 16\n",
    "WINDOW_SIZE = 32 # 18px - PATCH_SIZE - 18px\n",
    "NB_WINDOWS = (IMG_SIZE/PATCH_SIZE)**2"
   ]
  },
  {
   "cell_type": "markdown",
   "metadata": {
    "hide_input": true
   },
   "source": [
    "## 1. Functions for image pre/post-processing"
   ]
  },
  {
   "cell_type": "code",
   "execution_count": 21,
   "metadata": {
    "code_folding": [],
    "hide_input": false
   },
   "outputs": [],
   "source": [
    "def img_crop(im, w, h):\n",
    "    list_patches = []\n",
    "    imgwidth = im.shape[0]\n",
    "    imgheight = im.shape[1]\n",
    "    is_2d = len(im.shape) < 3\n",
    "    for i in range(0,imgheight,h):\n",
    "        for j in range(0,imgwidth,w):\n",
    "            if is_2d:\n",
    "                im_patch = im[j:j+w, i:i+h]\n",
    "            else:\n",
    "                im_patch = im[j:j+w, i:i+h, :]\n",
    "            list_patches.append(im_patch)\n",
    "    return list_patches\n",
    "\n",
    "def extract_data(filename, num_images):\n",
    "    \"\"\"Extract the images into a 4D tensor [image index, y, x, channels].\n",
    "    Values are rescaled from [0, 255] down to [-0.5, 0.5].\n",
    "    \"\"\"\n",
    "    imgs = []\n",
    "    tmp_imgs = []\n",
    "    for i in range(1, num_images+1):\n",
    "        imageid = \"satImage_%.3d\" % i\n",
    "        image_filename = filename + imageid + \".png\"\n",
    "        if os.path.isfile(image_filename):\n",
    "            #print ('Loading ' + image_filename)\n",
    "            img = Image.open(image_filename)\n",
    "            tmp_imgs.append(img)\n",
    "        else:\n",
    "            print ('File ' + image_filename + ' does not exist')\n",
    "\n",
    "    num_images = len(tmp_imgs)\n",
    "    for i in range(num_images):\n",
    "        imgs.append(np.asarray(tmp_imgs[i]) / 255)\n",
    "        '''imgs.append(np.asarray(tmp_imgs[i].rotate(90)) / 255)\n",
    "        imgs.append(np.asarray(tmp_imgs[i].rotate(180)) / 255)\n",
    "        imgs.append(np.asarray(tmp_imgs[i].rotate(-90)) / 255)\n",
    "        imgs.append(np.asarray(tmp_imgs[i].transpose(Image.FLIP_LEFT_RIGHT)) / 255)\n",
    "        imgs.append(np.asarray(tmp_imgs[i].transpose(Image.FLIP_TOP_BOTTOM)) / 255)\n",
    "        imgs.append(np.asarray(tmp_imgs[i].transpose(Image.TRANSPOSE)) / 255)'''\n",
    "    num_images = len(imgs)\n",
    "    IMG_WIDTH = imgs[0].shape[0]\n",
    "    IMG_HEIGHT = imgs[0].shape[1]\n",
    "    N_PATCHES_PER_IMAGE = (IMG_WIDTH/IMG_PATCH_SIZE)*(IMG_HEIGHT/IMG_PATCH_SIZE)\n",
    "    print('Patches per images: ' + str(N_PATCHES_PER_IMAGE))\n",
    "\n",
    "    img_patches = [img_crop(imgs[i], IMG_PATCH_SIZE, IMG_PATCH_SIZE) for i in range(num_images)]\n",
    "\n",
    "    data = np.array([img_patches[i][j] for i in range(len(img_patches)) for j in range(len(img_patches[i]))])\n",
    "\n",
    "    return data\n",
    "\n",
    "\n",
    "def extract_images(filename, num_images):\n",
    "    \"\"\"Extract the images into a 4D tensor [image index, y, x, channels].\n",
    "    Values are rescaled from [0, 255] down to [-0.5, 0.5].\n",
    "    \"\"\"\n",
    "    tmp_imgs = []\n",
    "    for i in range(1, num_images+1):\n",
    "        imageid = \"satImage_%.3d\" % i\n",
    "        image_filename = filename + imageid + \".png\"\n",
    "        if os.path.isfile(image_filename):\n",
    "            img = Image.open(image_filename)\n",
    "            tmp_imgs.append(np.asarray(img) / 255)\n",
    "        else:\n",
    "            print ('File ' + image_filename + ' does not exist')\n",
    "\n",
    "    return tmp_imgs\n",
    "\n",
    "# Assign a label to a patch v\n",
    "def value_to_class(v):\n",
    "    foreground_threshold = 0.25 # percentage of pixels > 1 required to assign a foreground label to a patch\n",
    "    df = numpy.sum(v)\n",
    "    if df > foreground_threshold:\n",
    "        return 1 #return [0, 1]\n",
    "    else:\n",
    "        return 0 #return [1, 0]\n",
    "\n",
    "def enhance(train_data, train_labels):\n",
    "    data_copy = list(train_data)\n",
    "    data_copy += [np.rot90(im) for im in train_data]\n",
    "    data_copy += [np.rot90(im,k=2) for im in train_data]\n",
    "    data_copy += [np.rot90(im,k=3) for im in train_data]\n",
    "    data_copy += [np.fliplr(im) for im in train_data]\n",
    "    data_copy += [np.flipud(im) for im in train_data]\n",
    "    data_copy += [np.transpose(im, (1,0,2)) for im in train_data]\n",
    "    return np.array(train_data), np.tile(train_labels)\n",
    "\n",
    "# Extract label images\n",
    "def extract_labels(filename, num_images):\n",
    "    \"\"\"Extract the labels into a 1-hot matrix [image index, label index].\"\"\"\n",
    "    gt_imgs = []\n",
    "    tmp_imgs = []\n",
    "    for i in range(1, num_images+1):\n",
    "        imageid = \"satImage_%.3d\" % i\n",
    "        image_filename = filename + imageid + \".png\"\n",
    "        if os.path.isfile(image_filename):\n",
    "            #print ('Loading ' + image_filename)\n",
    "            img = Image.open(image_filename)\n",
    "            tmp_imgs.append(img)\n",
    "        else:\n",
    "            print ('File ' + image_filename + ' does not exist')\n",
    "\n",
    "    num_images = len(tmp_imgs)\n",
    "    for i in range(num_images):\n",
    "        gt_imgs.append(np.asarray(tmp_imgs[i]) / 255)        \n",
    "        '''gt_imgs.append(np.asarray(tmp_imgs[i].rotate(90)) / 255)\n",
    "        gt_imgs.append(np.asarray(tmp_imgs[i].rotate(180)) / 255)\n",
    "        gt_imgs.append(np.asarray(tmp_imgs[i].rotate(-90)) / 255)\n",
    "        gt_imgs.append(np.asarray(tmp_imgs[i].transpose(Image.FLIP_LEFT_RIGHT)) / 255)\n",
    "        gt_imgs.append(np.asarray(tmp_imgs[i].transpose(Image.FLIP_TOP_BOTTOM)) / 255)\n",
    "        gt_imgs.append(np.asarray(tmp_imgs[i].transpose(Image.TRANSPOSE)) / 255)'''\n",
    "    num_images = len(gt_imgs)\n",
    "    gt_patches = [img_crop(gt_imgs[i], IMG_PATCH_SIZE, IMG_PATCH_SIZE) for i in range(num_images)]\n",
    "    data = numpy.array([gt_patches[i][j] for i in range(len(gt_patches)) for j in range(len(gt_patches[i]))])\n",
    "    labels = numpy.array([value_to_class(numpy.mean(data[i])) for i in range(len(data))])\n",
    "\n",
    "    # Convert to dense 1-hot representation.\n",
    "    return labels.astype(numpy.float32)\n",
    "\n",
    "# Extract label images\n",
    "def extract_gtim(filename, num_images):\n",
    "    \"\"\"Extract the labels into a 1-hot matrix [image index, label index].\"\"\"\n",
    "    tmp_imgs = []\n",
    "    for i in range(1, num_images+1):\n",
    "        imageid = \"satImage_%.3d\" % i\n",
    "        image_filename = filename + imageid + \".png\"\n",
    "        if os.path.isfile(image_filename):\n",
    "            print ('Loading ' + image_filename)\n",
    "            img = Image.open(image_filename)\n",
    "            tmp_imgs.append(img)\n",
    "        else:\n",
    "            print ('File ' + image_filename + ' does not exist')\n",
    "\n",
    "    # Convert to dense 1-hot representation.\n",
    "    return tmp_imgs\n",
    "\n",
    "# Convert array of labels to an image\n",
    "def label_to_img_win(imgwidth, imgheight, w, h, labels):\n",
    "    array_labels = numpy.zeros([imgwidth, imgheight])\n",
    "    idx = 0\n",
    "    for i in range(0,imgheight,h):\n",
    "        for j in range(0,imgwidth,w):\n",
    "            if labels[idx] > 0.5:\n",
    "                array_labels[i:i+w, j:j+h] = 1\n",
    "            else:\n",
    "                array_labels[i:i+w, j:j+h] = 0\n",
    "            idx = idx + 1\n",
    "    return array_labels\n",
    "\n",
    "# Convert array of labels to an image\n",
    "def label_to_img(imgwidth, imgheight, w, h, labels):\n",
    "    array_labels = numpy.zeros([imgwidth, imgheight])\n",
    "    idx = 0\n",
    "    for i in range(0,imgheight,h):\n",
    "        for j in range(0,imgwidth,w):\n",
    "            if labels[idx] > 0.5:\n",
    "                array_labels[j:j+w, i:i+h] = 1\n",
    "            else:\n",
    "                array_labels[j:j+w, i:i+h] = 0\n",
    "            idx = idx + 1\n",
    "    return array_labels\n",
    "\n",
    "# Convert array of labels to an image\n",
    "def label_to_img_soft(imgwidth, imgheight, w, h, labels):\n",
    "    array_labels = numpy.zeros([imgwidth, imgheight])\n",
    "    idx = 0\n",
    "    for i in range(0,imgheight,h):\n",
    "        for j in range(0,imgwidth,w):\n",
    "            array_labels[j:j+w, i:i+h] = labels[idx]\n",
    "            idx = idx + 1\n",
    "    return array_labels\n",
    "\n",
    "def img_float_to_uint8(img):\n",
    "    rimg = img - numpy.min(img)\n",
    "    rimg = (rimg / numpy.max(rimg) * PIXEL_DEPTH).round().astype(numpy.uint8)\n",
    "    return rimg"
   ]
  },
  {
   "cell_type": "markdown",
   "metadata": {
    "hide_input": true
   },
   "source": [
    "## Generate windows with mirror boundaries"
   ]
  },
  {
   "cell_type": "code",
   "execution_count": null,
   "metadata": {
    "code_folding": [],
    "hide_input": true
   },
   "outputs": [],
   "source": [
    "def compute(img_train, train_labels, window_size, patch_size):\n",
    "    train_data = []\n",
    "    nb_windows = (IMG_SIZE/patch_size)**2\n",
    "    for im in img_train:\n",
    "        w_im = sliding_window(im, window_size, patch_size)\n",
    "        train_data += w_im\n",
    "    \n",
    "    return np.asarray(train_data).reshape((-1, window_size, window_size, 3)), np.asarray(train_labels)\n",
    "\n",
    "def compute_test(imgs, window_size, patch_size):\n",
    "    res_data = []\n",
    "    nb_windows = (IMG_SIZE/patch_size)**2\n",
    "    for im in imgs:\n",
    "        w_im = sliding_window(im, window_size, patch_size)\n",
    "        res_data += w_im\n",
    "    \n",
    "    return np.asarray(res_data).reshape((-1, window_size, window_size, 3))\n",
    "\n",
    "def apply_mirror_boundary_conditions(coord, dim):\n",
    "    \"\"\"\n",
    "    Return the correct coordinate according to mirror boundary conditions\n",
    "        coord: a coordinate (x or y) in the image\n",
    "        dim: the length of the axis of said coordinate\n",
    "    \"\"\"\n",
    "    # If the coordinate is outside of the bounds of the axis, take its reflection inside the image\n",
    "    if coord < 0:\n",
    "        coord = -coord\n",
    "    elif coord >= dim:\n",
    "        coord =  2*(dim-1) - coord % (2*(dim-1))\n",
    "    # Else, do nothing\n",
    "    return int(coord)\n",
    "\n",
    "def get_window(image, window_size, corner_coordinates, patch_size):\n",
    "    \"\"\"\n",
    "    Get a window in image, centered on a patch, taking into account boundary conditions\n",
    "        image: a numpy array representing our image\n",
    "        window_size: an even number specifying the size of the window\n",
    "        corner_coordinates: a list containing the x-y coordinates of the patch's upleft pixel\n",
    "        path_size: an even number specifying the size of the central patch\n",
    "    \"\"\"\n",
    "    # Get convenient variables\n",
    "    window_radius = window_size/2\n",
    "    border_size = (window_size - patch_size)/2\n",
    "    i_patch_corner, j_patch_corner = (corner_coordinates[0], corner_coordinates[1])\n",
    "    i_window_corner, j_window_corner = (i_patch_corner - border_size, j_patch_corner - border_size)\n",
    "    nrows, ncols, nchannels = image.shape\n",
    "    window = np.zeros((window_size, window_size, nchannels))\n",
    "    \n",
    "    # Fill in the window array with pixels of the image\n",
    "    for i in range(window_size):\n",
    "        # Apply mirror boundary conditions on the x-coordinate\n",
    "        i_mirrored = apply_mirror_boundary_conditions(i_window_corner + i, nrows)\n",
    "        for j in range(window_size):\n",
    "            # Same for the y-coordinate\n",
    "            j_mirrored = apply_mirror_boundary_conditions(j_window_corner + j, ncols)\n",
    "            # Fill in the window with the corresponding pixel\n",
    "            window[i, j, :] = image[i_mirrored, j_mirrored, :]\n",
    "    return window\n",
    "def shift_to_the_right(image, window, corner_coordinates, patch_size):\n",
    "    nrows, ncols, _ = image.shape\n",
    "    window_size = len(window)\n",
    "    #window_radius = window_size/2\n",
    "    border_size = (window_size - patch_size)/2\n",
    "    i_patch_corner, j_patch_corner = (corner_coordinates[0], corner_coordinates[1])\n",
    "    i_window_corner, j_window_corner = (i_patch_corner - border_size, j_patch_corner - border_size)\n",
    "    step = patch_size\n",
    "    \n",
    "    shifted = np.roll(window, -step, axis=1)\n",
    "    for i in range(window_size):\n",
    "        i_mirrored = apply_mirror_boundary_conditions(i_window_corner + i, nrows)            \n",
    "        for j in range(window_size-step, window_size):\n",
    "            j_mirrored = apply_mirror_boundary_conditions(j_window_corner + j + step, ncols)\n",
    "            shifted[i, j, :] = image[i_mirrored, j_mirrored, :]\n",
    "    return shifted\n",
    "\n",
    "def shift_to_the_bottom(image, window, corner_coordinates, patch_size):\n",
    "    nrows, ncols, _ = image.shape\n",
    "    window_size = len(window)\n",
    "    #window_radius = window_size/2\n",
    "    border_size = (window_size - patch_size)/2\n",
    "    i_patch_corner, j_patch_corner = (corner_coordinates[0], corner_coordinates[1])\n",
    "    i_window_corner, j_window_corner = (i_patch_corner - border_size, j_patch_corner - border_size)\n",
    "    step = patch_size\n",
    "    \n",
    "    shifted = np.roll(window, -step, axis=0)\n",
    "    for j in range(window_size):\n",
    "        j_mirrored = apply_mirror_boundary_conditions(j_window_corner + j, ncols)\n",
    "        for i in range(window_size-step, window_size):\n",
    "            i_mirrored = apply_mirror_boundary_conditions(i_window_corner + i + step, nrows)\n",
    "            shifted[i, j, :] = image[i_mirrored, j_mirrored, :]\n",
    "    return shifted\n",
    "\n",
    "def sliding_window(image, window_size, patch_size):\n",
    "    \"\"\"\n",
    "    Construct a list of sliding windows of given size on an image.\n",
    "    The windows, centered on a patch, will slide from left to right and from up to down.\n",
    "        image: a numpy array representing our image\n",
    "        window_size: an even number specifying the size of the window\n",
    "        patch_size: the size of the central patch\n",
    "    \"\"\"\n",
    "    nrows, ncols, _ = image.shape\n",
    "    windows = []\n",
    "    i = 0\n",
    "    row_windows = [get_window(image, window_size, [i, 0], patch_size)]\n",
    "    for j in range(patch_size, ncols-1, patch_size):\n",
    "        #print(j)\n",
    "        row_windows += [shift_to_the_right(image, row_windows[-1], [i, j], patch_size)]\n",
    "    windows += row_windows\n",
    "    #print('===')\n",
    "    for i in range(patch_size, nrows-1, patch_size):\n",
    "        #print(i)\n",
    "        row_windows = [shift_to_the_bottom(image, row_windows[int(j/patch_size)], [i, j], patch_size) \n",
    "                       for j in range(0, ncols-1, patch_size)]\n",
    "        #print(len(row_windows))\n",
    "        windows += row_windows\n",
    "    return windows"
   ]
  },
  {
   "cell_type": "markdown",
   "metadata": {},
   "source": [
    "## 3. Load images from dataset, convert to inputs for model"
   ]
  },
  {
   "cell_type": "markdown",
   "metadata": {},
   "source": [
    "Model parameters"
   ]
  },
  {
   "cell_type": "code",
   "execution_count": 13,
   "metadata": {},
   "outputs": [],
   "source": [
    "IMG_PATCH_SIZE = 16\n",
    "TRAINING_SIZE = 100\n",
    "BATCH_SIZE = 32\n",
    "NUM_EPOCHS = 30\n",
    "a = 0.0001"
   ]
  },
  {
   "cell_type": "code",
   "execution_count": 28,
   "metadata": {
    "hide_input": false
   },
   "outputs": [
    {
     "name": "stdout",
     "output_type": "stream",
     "text": [
      "Patches per images: 625.0\n"
     ]
    }
   ],
   "source": [
    "data_dir = 'training/'\n",
    "train_data_filename = data_dir + 'images/'\n",
    "train_labels_filename = data_dir + 'groundtruth/' \n",
    "\n",
    "# Extract it into numpy arrays.\n",
    "train_data = extract_data(train_data_filename, TRAINING_SIZE)\n",
    "train_labels = extract_labels(train_labels_filename, TRAINING_SIZE)"
   ]
  },
  {
   "cell_type": "code",
   "execution_count": 29,
   "metadata": {},
   "outputs": [
    {
     "data": {
      "text/plain": [
       "((62500, 16, 16, 3), (62500,))"
      ]
     },
     "execution_count": 29,
     "metadata": {},
     "output_type": "execute_result"
    }
   ],
   "source": [
    "train_data.shape, train_labels.shape"
   ]
  },
  {
   "cell_type": "code",
   "execution_count": null,
   "metadata": {},
   "outputs": [],
   "source": [
    "X_train, X_test, y_train, y_test = train_test_split(train_data, train_labels, test_size = 0.25)\n",
    "X_train.shape, X_test.shape, y_train.shape, y_test.shape"
   ]
  },
  {
   "cell_type": "code",
   "execution_count": null,
   "metadata": {
    "hide_input": false
   },
   "outputs": [],
   "source": [
    "print('Image size = ' + str(train_data[0].shape[0]) + ',' + str(train_data[0].shape[1]))\n",
    "\n",
    "# Show first image and its groundtruth image\n",
    "cimg = label_to_img(400, 400, 16, 16, train_labels[:,])\n",
    "fig1 = plt.figure(figsize=(10, 10))\n",
    "plt.imshow(cimg, cmap='Greys_r')"
   ]
  },
  {
   "cell_type": "markdown",
   "metadata": {},
   "source": [
    "## For windows"
   ]
  },
  {
   "cell_type": "code",
   "execution_count": null,
   "metadata": {},
   "outputs": [],
   "source": [
    "data_dir = 'training/'\n",
    "train_data_filename = data_dir + 'images/'\n",
    "train_labels_filename = data_dir + 'groundtruth/' \n",
    "\n",
    "# Extract it into numpy arrays.\n",
    "train_imgs = extract_images(train_data_filename, 100)\n",
    "train_labels = extract_labels(train_labels_filename, 100)\n",
    "\n",
    "imgs, labels = compute(train_imgs, train_labels, 32, PATCH_SIZE)\n",
    "imgs.shape, labels.shape"
   ]
  },
  {
   "cell_type": "code",
   "execution_count": null,
   "metadata": {},
   "outputs": [],
   "source": [
    "img_tr, img_t, labels_tr, labels_t = train_test_split(imgs, train_labels, test_size=0.1)\n",
    "img_tr.shape, img_t.shape, labels_tr.shape, labels_t.shape"
   ]
  },
  {
   "cell_type": "code",
   "execution_count": null,
   "metadata": {},
   "outputs": [],
   "source": [
    "sum(train_labels)"
   ]
  },
  {
   "cell_type": "markdown",
   "metadata": {},
   "source": [
    "## Different ConvNet-based models"
   ]
  },
  {
   "cell_type": "code",
   "execution_count": null,
   "metadata": {},
   "outputs": [],
   "source": [
    "INPUT_SIZE = 16"
   ]
  },
  {
   "cell_type": "markdown",
   "metadata": {},
   "source": [
    "#### Simple VGG-like ConvNet (gives ~84% acc, maybe longer training gives extra 2-3%) "
   ]
  },
  {
   "cell_type": "code",
   "execution_count": null,
   "metadata": {},
   "outputs": [],
   "source": [
    "model = Sequential()\n",
    "model.add(Conv2D(16, 2, input_shape=(INPUT_SIZE, INPUT_SIZE, NUM_CHANNELS)))\n",
    "model.add(LeakyReLU(alpha=a))\n",
    "model.add(Conv2D(16, 2))\n",
    "model.add(LeakyReLU(alpha=a))\n",
    "model.add(MaxPooling2D(pool_size=(2, 2)))\n",
    "model.add(Dropout(0.25))\n",
    "\n",
    "model.add(Conv2D(32, 2))\n",
    "model.add(LeakyReLU(alpha=a))\n",
    "model.add(Conv2D(32, 2))\n",
    "model.add(LeakyReLU(alpha=a))\n",
    "model.add(MaxPooling2D(pool_size=(2, 2)))\n",
    "model.add(Dropout(0.25))\n",
    "\n",
    "model.add(Conv2D(64, 1))\n",
    "model.add(LeakyReLU(alpha=a))\n",
    "model.add(Conv2D(64, 1))\n",
    "model.add(LeakyReLU(alpha=a))\n",
    "model.add(Dropout(0.25))\n",
    "\n",
    "model.add(Flatten())\n",
    "model.add(Dense(128))\n",
    "model.add(Dense(128))\n",
    "model.add(Dropout(0.5))\n",
    "model.add(LeakyReLU(alpha=a))\n",
    "model.add(Dense(1, activation='sigmoid'))"
   ]
  },
  {
   "cell_type": "markdown",
   "metadata": {},
   "source": [
    "#### FCN (again, from tutorial network)"
   ]
  },
  {
   "cell_type": "code",
   "execution_count": null,
   "metadata": {},
   "outputs": [],
   "source": [
    "model = Sequential()\n",
    "model.add(Conv2D(32, 2, input_shape=(INPUT_SIZE, INPUT_SIZE, NUM_CHANNELS)))\n",
    "model.add(LeakyReLU(alpha=a))\n",
    "model.add(Conv2D(32, 2))\n",
    "model.add(LeakyReLU(alpha=a))\n",
    "model.add(MaxPooling2D(pool_size=(2, 2)))\n",
    "model.add(Dropout(0.25))\n",
    "\n",
    "model.add(Conv2D(64, 2))\n",
    "model.add(LeakyReLU(alpha=a))\n",
    "model.add(Conv2D(64, 2))\n",
    "model.add(LeakyReLU(alpha=a))\n",
    "model.add(MaxPooling2D(pool_size=(2, 2)))\n",
    "model.add(Dropout(0.25))\n",
    "\n",
    "model.add(Conv2DTranspose(1, kernel_size=1, padding='valid'))\n",
    "model.add(GlobalAveragePooling2D())\n",
    "model.add(Activation('sigmoid'))"
   ]
  },
  {
   "cell_type": "markdown",
   "metadata": {},
   "source": [
    "## Print model structure"
   ]
  },
  {
   "cell_type": "code",
   "execution_count": null,
   "metadata": {},
   "outputs": [],
   "source": [
    "for layer in model.layers:\n",
    "    print(layer.input_shape,layer.output_shape )"
   ]
  },
  {
   "cell_type": "markdown",
   "metadata": {
    "collapsed": true
   },
   "source": [
    "Optimization"
   ]
  },
  {
   "cell_type": "code",
   "execution_count": 3,
   "metadata": {
    "code_folding": []
   },
   "outputs": [],
   "source": [
    "from keras import backend as K\n",
    "\n",
    "def f1(y_true, y_pred):\n",
    "    def recall(y_true, y_pred):\n",
    "        true_positives = K.sum(K.round(K.clip(y_true * y_pred, 0, 1)))\n",
    "        possible_positives = K.sum(K.round(K.clip(y_true, 0, 1)))\n",
    "        recall = true_positives / (possible_positives + K.epsilon())\n",
    "        return recall\n",
    "\n",
    "    def precision(y_true, y_pred):\n",
    "        true_positives = K.sum(K.round(K.clip(y_true * y_pred, 0, 1)))\n",
    "        predicted_positives = K.sum(K.round(K.clip(y_pred, 0, 1)))\n",
    "        precision = true_positives / (predicted_positives + K.epsilon())\n",
    "        return precision\n",
    "    precision = precision(y_true, y_pred)\n",
    "    recall = recall(y_true, y_pred)\n",
    "    return 2*((precision*recall)/(precision+recall))"
   ]
  },
  {
   "cell_type": "code",
   "execution_count": null,
   "metadata": {},
   "outputs": [],
   "source": []
  },
  {
   "cell_type": "code",
   "execution_count": null,
   "metadata": {},
   "outputs": [],
   "source": [
    "LR = 0.001\n",
    "DECAY = 0.00000\n",
    "adam = Adam(lr=LR, decay=DECAY)\n",
    "\n",
    "model.compile(loss='binary_crossentropy', optimizer=adam, metrics=['acc',f1])\n",
    "\n",
    "model.fit(X_train, 1-y_train, batch_size=BATCH_SIZE, epochs=NUM_EPOCHS, validation_data=(X_test, 1-y_test))"
   ]
  },
  {
   "cell_type": "code",
   "execution_count": null,
   "metadata": {},
   "outputs": [],
   "source": [
    "score = model.evaluate(imgs, labels)\n",
    "score"
   ]
  },
  {
   "cell_type": "code",
   "execution_count": null,
   "metadata": {},
   "outputs": [],
   "source": [
    "model.save('FCN_W16_noenh.h5')"
   ]
  },
  {
   "cell_type": "markdown",
   "metadata": {
    "collapsed": true
   },
   "source": [
    "## Test predictions"
   ]
  },
  {
   "cell_type": "code",
   "execution_count": 17,
   "metadata": {
    "code_folding": []
   },
   "outputs": [],
   "source": [
    "import re\n",
    "\n",
    "def extract_test_data(filename, num_images):\n",
    "    \"\"\"Extract the images into a 4D tensor [image index, y, x, channels].\n",
    "    Values are rescaled from [0, 255] down to [-0.5, 0.5].\n",
    "    \"\"\"\n",
    "    imgs = []\n",
    "    names = []\n",
    "    for i in range(1, num_images+1):\n",
    "        imageid = \"test_{}/test_{}\".format(i,i)\n",
    "        image_filename = filename + imageid + \".png\"\n",
    "        if os.path.isfile(image_filename):\n",
    "            #print ('Loading ' + image_filename)\n",
    "            img = mpimg.imread(image_filename)\n",
    "            imgs.append(img)\n",
    "            names.append(image_filename)\n",
    "        else:\n",
    "            print ('File ' + image_filename + ' does not exist')\n",
    "    return np.array(imgs), names\n",
    "\n",
    "# Get prediction for given input image \n",
    "def keras_prediction(model, img):\n",
    "    data = numpy.asarray(img_crop(img, IMG_PATCH_SIZE, IMG_PATCH_SIZE))\n",
    "    output_prediction = model.predict(data)\n",
    "    img_prediction = label_to_img(img.shape[0], img.shape[1], IMG_PATCH_SIZE, IMG_PATCH_SIZE, output_prediction)\n",
    "\n",
    "    return img_prediction\n",
    "\n",
    "# Get prediction for given input image \n",
    "def keras_prediction_win(model, img):\n",
    "    img_wins = np.asarray(sliding_window(img, WINDOW_SIZE, IMG_PATCH_SIZE))\n",
    "    output_prediction = model.predict(img_wins)\n",
    "    img_prediction = label_to_img_win(img.shape[0], img.shape[1], IMG_PATCH_SIZE, IMG_PATCH_SIZE, output_prediction)\n",
    "\n",
    "    return img_prediction\n",
    "\n",
    "foreground_threshold = 0.25 # percentage of pixels > 1 required to assign a foreground label to a patch\n",
    "\n",
    "# assign a label to a patch\n",
    "def patch_to_label(patch):\n",
    "    df = np.mean(patch)\n",
    "    if df > foreground_threshold:\n",
    "        return 1\n",
    "    else:\n",
    "        return 0\n",
    "\n",
    "def mask_to_submission_strings(im, im_name):\n",
    "    \"\"\"Reads a single image and outputs the strings that should go into the submission file\"\"\"\n",
    "    img_number = int(re.search(r\"\\d+\", im_name).group(0))\n",
    "    for j in range(0, im.shape[1], IMG_PATCH_SIZE):\n",
    "        for i in range(0, im.shape[0], IMG_PATCH_SIZE):\n",
    "            patch = im[i:i + IMG_PATCH_SIZE, j:j + IMG_PATCH_SIZE]\n",
    "            label = patch_to_label(patch)\n",
    "            yield(\"{:03d}_{}_{},{}\".format(img_number, j, i, label))\n",
    "\n",
    "\n",
    "def masks_to_submission(submission_filename, images, images_names):\n",
    "    \"\"\"Converts images into a submission file\"\"\"\n",
    "    with open(submission_filename, 'w') as f:\n",
    "        f.write('id,prediction\\n')\n",
    "        for ind, fn in enumerate(images):\n",
    "            f.writelines('{}\\n'.format(s) for s in mask_to_submission_strings(fn, images_names[ind]))\n",
    "# Get prediction for given input image \n",
    "def keras_prediction_av(model1, model2, img):\n",
    "    data = numpy.asarray(img_crop(img, IMG_PATCH_SIZE, IMG_PATCH_SIZE))\n",
    "    pred1 = model1.predict(data)\n",
    "    pred2 = 1 - model2.predict(data)\n",
    "    img_prediction = label_to_img(img.shape[0], img.shape[1], IMG_PATCH_SIZE, IMG_PATCH_SIZE, (pred1 + pred2) / 2)\n",
    "\n",
    "    return img_prediction\n",
    "\n",
    "# Get prediction for given input image \n",
    "def keras_prediction_av3(model1, model2, model3, img):\n",
    "    data = numpy.asarray(img_crop(img, IMG_PATCH_SIZE, IMG_PATCH_SIZE))\n",
    "    pred1 = model1.predict(data)\n",
    "    pred2 = 1 - model2.predict(data)\n",
    "    pred3 = 1 - model3.predict(data)\n",
    "    img_prediction = label_to_img(img.shape[0], img.shape[1], IMG_PATCH_SIZE, IMG_PATCH_SIZE, (pred1 + pred2 + pred3) / 3)\n",
    "\n",
    "    return img_prediction"
   ]
  },
  {
   "cell_type": "code",
   "execution_count": 15,
   "metadata": {},
   "outputs": [],
   "source": [
    "TEST_SIZE = 50\n",
    "test_data_dir = 'test_set_images/'\n",
    "\n",
    "# Extract it into numpy arrays.\n",
    "test_data, file_names = extract_test_data(test_data_dir, TEST_SIZE)"
   ]
  },
  {
   "cell_type": "code",
   "execution_count": 16,
   "metadata": {},
   "outputs": [
    {
     "data": {
      "text/plain": [
       "(50, 608, 608, 3)"
      ]
     },
     "execution_count": 16,
     "metadata": {},
     "output_type": "execute_result"
    }
   ],
   "source": [
    "test_data.shape"
   ]
  },
  {
   "cell_type": "code",
   "execution_count": 19,
   "metadata": {},
   "outputs": [],
   "source": [
    "from keras.models import load_model\n",
    "model1 = load_model('FCN_16_enh.h5', custom_objects= {'f1_score': f1})\n",
    "model2 = load_model('DilNet_16_enh.h5', custom_objects= {'f1': f1})\n",
    "model3 = load_model('FCN_16_enh2.h5', custom_objects= {'f1': f1})"
   ]
  },
  {
   "cell_type": "code",
   "execution_count": 26,
   "metadata": {},
   "outputs": [
    {
     "data": {
      "text/plain": [
       "<matplotlib.image.AxesImage at 0x1bcdfa62f98>"
      ]
     },
     "execution_count": 26,
     "metadata": {},
     "output_type": "execute_result"
    },
    {
     "data": {
      "image/png": "[encoded data removed]",
      "text/plain": [
       "<matplotlib.figure.Figure at 0x1bcdfaf07f0>"
      ]
     },
     "metadata": {},
     "output_type": "display_data"
    }
   ],
   "source": [
    "plt.imshow(keras_prediction_av3(model1,model2,model3, test_data[0]), cmap='Greys_r')"
   ]
  },
  {
   "cell_type": "code",
   "execution_count": 36,
   "metadata": {},
   "outputs": [
    {
     "data": {
      "text/plain": [
       "<matplotlib.image.AxesImage at 0x1bce7a194a8>"
      ]
     },
     "execution_count": 36,
     "metadata": {},
     "output_type": "execute_result"
    },
    {
     "data": {
      "image/png": "[encoded data removed]",
      "text/plain": [
       "<matplotlib.figure.Figure at 0x1bcdfbbd5f8>"
      ]
     },
     "metadata": {},
     "output_type": "display_data"
    }
   ],
   "source": [
    "plt.imshow(keras_prediction_av(model1,model2, test_data[0]), cmap='Greys_r')"
   ]
  },
  {
   "cell_type": "code",
   "execution_count": 30,
   "metadata": {},
   "outputs": [],
   "source": [
    "pred1 = 1-model1.predict(train_data)\n",
    "pred2 = model2.predict(train_data)\n",
    "pred3 = model3.predict(train_data)\n",
    "res = (pred1 + pred2 + pred3) / 3"
   ]
  },
  {
   "cell_type": "code",
   "execution_count": 32,
   "metadata": {},
   "outputs": [
    {
     "data": {
      "text/plain": [
       "(0.90583938541622944,\n",
       " 0.91367007135861211,\n",
       " 0.89681325111401178,\n",
       " 0.91836886596841949,\n",
       " 0.92067530563401534,\n",
       " 0.9140984596147419)"
      ]
     },
     "execution_count": 32,
     "metadata": {},
     "output_type": "execute_result"
    }
   ],
   "source": [
    "pred1_l = [1 if i > 0.5 else 0 for i in pred1]\n",
    "pred2_l = [1 if i > 0.5 else 0 for i in pred2]\n",
    "pred3_l = [1 if i > 0.5 else 0 for i in pred3]\n",
    "res_l = [1 if i > 0.5 else 0 for i in (pred1 + pred2 + pred3) / 3]\n",
    "res2_l = [1 if i > 0.5 else 0 for i in (pred1 + pred2) / 2]\n",
    "res_ll = [1 if i > 0.5 else 0 for i in (pred1 + pred3) / 2]\n",
    "f1_score(1-train_labels, pred1_l), f1_score(1-train_labels, pred2_l), f1_score(1-train_labels, pred3_l), f1_score(1-train_labels, res2_l), f1_score(1-train_labels, res_l), f1_score(1-train_labels, res_ll)"
   ]
  },
  {
   "cell_type": "code",
   "execution_count": null,
   "metadata": {},
   "outputs": [],
   "source": [
    "tmp_data = numpy.asarray(img_crop(test_data[0], IMG_PATCH_SIZE, IMG_PATCH_SIZE))\n",
    "output_prediction = model.predict(tmp_data)\n",
    "img = label_to_img(608, 608, 16, 16, output_prediction)\n",
    "img_s = label_to_img_soft(608, 608, 16, 16, output_prediction)\n",
    "plt.imshow(img, cmap='Greys_r')"
   ]
  },
  {
   "cell_type": "code",
   "execution_count": null,
   "metadata": {},
   "outputs": [],
   "source": [
    "img_1 = np.asarray(sliding_window(test_data[0], WINDOW_SIZE, IMG_PATCH_SIZE))\n",
    "output_prediction = model.predict(img_1)\n",
    "plt.imshow(label_to_img(608, 608, 16, 16, output_prediction), cmap='Greys_r')"
   ]
  },
  {
   "cell_type": "code",
   "execution_count": 34,
   "metadata": {},
   "outputs": [],
   "source": [
    "submission_filename = 'silly_submission2.csv'\n",
    "images = [keras_prediction_av(model1, model2, test_data[i]) for i in range(test_data.shape[0])]\n",
    "masks_to_submission(submission_filename, images, file_names)"
   ]
  },
  {
   "cell_type": "markdown",
   "metadata": {},
   "source": [
    "## Sklearn logistic regression"
   ]
  },
  {
   "cell_type": "code",
   "execution_count": null,
   "metadata": {},
   "outputs": [],
   "source": [
    "# Extract 6-dimensional features consisting of average RGB color as well as variance\n",
    "def extract_features(img):\n",
    "    feat_m = np.mean(img, axis=(0,1))\n",
    "    feat_v = np.var(img, axis=(0,1))\n",
    "    feat = np.append(feat_m, feat_v)\n",
    "    return feat\n",
    "\n",
    "# Extract 2-dimensional features consisting of average gray color as well as variance\n",
    "def extract_features_2d(img):\n",
    "    feat_m = np.mean(img)\n",
    "    feat_v = np.var(img)\n",
    "    feat = np.append(feat_m, feat_v)\n",
    "    return feat\n",
    "\n",
    "# Extract features for a given image\n",
    "def extract_img_features(filename):\n",
    "    img = load_image(filename)\n",
    "    img_patches = img_crop(img, patch_size, patch_size)\n",
    "    X = np.asarray([ extract_features_2d(img_patches[i]) for i in range(len(img_patches))])\n",
    "    return X"
   ]
  },
  {
   "cell_type": "code",
   "execution_count": null,
   "metadata": {},
   "outputs": [],
   "source": [
    "from sklearn import linear_model\n",
    "\n",
    "X_tr = np.asarray([ extract_features(X_train[i]) for i in range(len(X_train))])\n",
    "X_tr.shape, y_train.shape"
   ]
  },
  {
   "cell_type": "code",
   "execution_count": null,
   "metadata": {},
   "outputs": [],
   "source": [
    "# we create an instance of the classifier and fit the data\n",
    "logreg = linear_model.LogisticRegression(C=1e5, class_weight=\"balanced\")\n",
    "logreg.fit(X_tr, y_train)"
   ]
  },
  {
   "cell_type": "code",
   "execution_count": null,
   "metadata": {},
   "outputs": [],
   "source": [
    "f1_score(1-y_train, 1-logreg.predict(X_tr)), f1_score(1-y_test, 1-logreg.predict(np.asarray([ extract_features(X_test[i]) for i in range(len(X_test))])))"
   ]
  },
  {
   "cell_type": "code",
   "execution_count": null,
   "metadata": {},
   "outputs": [],
   "source": [
    "X = np.asarray([ extract_features(train_data[i]) for i in range(len(train_data))])\n",
    "X.shape, train_labels.shape"
   ]
  },
  {
   "cell_type": "code",
   "execution_count": null,
   "metadata": {},
   "outputs": [],
   "source": [
    "n_trials = 5\n",
    "labels_f1 = 1 - train_labels\n",
    "res_tr = []\n",
    "res_t = []\n",
    "for i in range(n_trials):\n",
    "    tr_cur, t_cur, y_tr, y_t = train_test_split(X, labels_f1, test_size = 0.25)\n",
    "    logreg.fit(tr_cur, y_tr)\n",
    "    res_tr.append(f1_score(y_tr, logreg.predict(tr_cur)))\n",
    "    res_t.append(f1_score(y_t, logreg.predict(t_cur)))\n",
    "print(\"F1-score train: %0.3f +/- %0.3f\" % (np.array(res_tr).mean(), np.array(res_tr).std() * 2))\n",
    "print(\"F1-score test: %0.3f +/- %0.3f\" % (np.array(res_t).mean(), np.array(res_t).std() * 2))"
   ]
  },
  {
   "cell_type": "markdown",
   "metadata": {},
   "source": [
    "## MLP from sklearn"
   ]
  },
  {
   "cell_type": "code",
   "execution_count": null,
   "metadata": {},
   "outputs": [],
   "source": [
    "from sklearn.neural_network import MLPClassifier\n",
    "mlp = MLPClassifier(hidden_layer_sizes=(32, 32, 64))\n",
    "mlp.fit(X_train.reshape((X_train.shape[0], -1)), y_train)"
   ]
  },
  {
   "cell_type": "code",
   "execution_count": null,
   "metadata": {},
   "outputs": [],
   "source": [
    "f1_score(1-y_train, 1-mlp.predict(X_train.reshape((X_train.shape[0], -1)))), f1_score(1-y_test, 1-mlp.predict(X_test.reshape((X_test.shape[0], -1))))"
   ]
  },
  {
   "cell_type": "code",
   "execution_count": null,
   "metadata": {},
   "outputs": [],
   "source": [
    "n_trials = 5\n",
    "labels_f1 = 1 - train_labels\n",
    "res_tr = []\n",
    "res_t = []\n",
    "for i in range(n_trials):\n",
    "    tr_cur, t_cur, y_tr, y_t = train_test_split(train_data, labels_f1, test_size = 0.25)\n",
    "    mlp.fit(tr_cur.reshape((tr_cur.shape[0], -1)), y_tr)\n",
    "    res_tr.append(f1_score(y_tr, mlp.predict(tr_cur.reshape((tr_cur.shape[0], -1)))))\n",
    "    res_t.append(f1_score(y_t, mlp.predict(t_cur.reshape((t_cur.shape[0], -1)))))\n",
    "print(\"F1-score train: %0.3f +/- %0.3f\" % (np.array(res_tr).mean(), np.array(res_tr).std() * 2))\n",
    "print(\"F1-score test: %0.3f +/- %0.3f\" % (np.array(res_t).mean(), np.array(res_t).std() * 2))"
   ]
  },
  {
   "cell_type": "code",
   "execution_count": null,
   "metadata": {},
   "outputs": [],
   "source": [
    "from sklearn.externals import joblib\n",
    "joblib.dump(mlp, 'sklearn_mlp.pkl') "
   ]
  },
  {
   "cell_type": "code",
   "execution_count": null,
   "metadata": {},
   "outputs": [],
   "source": [
    "plt.imshow(test_data[8])"
   ]
  },
  {
   "cell_type": "code",
   "execution_count": null,
   "metadata": {},
   "outputs": [],
   "source": [
    "test_img = numpy.asarray(img_crop(test_data[8], IMG_PATCH_SIZE, IMG_PATCH_SIZE))\n",
    "pred = mlp.predict(test_img.reshape(test_img.shape[0],-1))\n",
    "plt.imshow(label_to_img(608, 608, 16, 16, pred), cmap='Greys_r')"
   ]
  },
  {
   "cell_type": "code",
   "execution_count": null,
   "metadata": {},
   "outputs": [],
   "source": [
    "from sklearn.svm import SVC\n",
    "\n",
    "X_tr = np.asarray([ extract_features(X_train[i]) for i in range(len(X_train))])\n",
    "X_tr.shape, y_train.shape\n",
    "svc = SVC()\n",
    "svc.fit(X_tr, y_train)"
   ]
  },
  {
   "cell_type": "code",
   "execution_count": null,
   "metadata": {},
   "outputs": [],
   "source": [
    "f1_score(1-y_train, 1-svc.predict(X_tr)), f1_score(1-y_test, 1-svc.predict(np.asarray([ extract_features(X_test[i]) for i in range(len(X_test))])))"
   ]
  },
  {
   "cell_type": "code",
   "execution_count": null,
   "metadata": {},
   "outputs": [],
   "source": [
    "n_trials = 5\n",
    "labels_f1 = 1 - train_labels\n",
    "res_tr = []\n",
    "res_t = []\n",
    "for i in range(n_trials):\n",
    "    tr_cur, t_cur, y_tr, y_t = train_test_split(X, labels_f1, test_size = 0.25)\n",
    "    svc.fit(tr_cur, y_tr)\n",
    "    res_tr.append(f1_score(y_tr, svc.predict(tr_cur)))\n",
    "    res_t.append(f1_score(y_t, svc.predict(t_cur)))\n",
    "print(\"F1-score train: %0.3f +/- %0.3f\" % (np.array(res_tr).mean(), np.array(res_tr).std() * 2))\n",
    "print(\"F1-score test: %0.3f +/- %0.3f\" % (np.array(res_t).mean(), np.array(res_t).std() * 2))"
   ]
  },
  {
   "cell_type": "code",
   "execution_count": null,
   "metadata": {},
   "outputs": [],
   "source": [
    "from sklearn.ensemble import ExtraTreesClassifier\n",
    "rfc = ExtraTreesClassifier(n_estimators = 10)\n",
    "rfc.fit(X_train.reshape((X_train.shape[0], -1)), y_train)\n",
    "f1_score(1-y_train, 1-rfc.predict(X_train.reshape((X_train.shape[0], -1)))), f1_score(1-y_test, 1-rfc.predict(X_test.reshape((X_test.shape[0], -1))))"
   ]
  },
  {
   "cell_type": "code",
   "execution_count": null,
   "metadata": {},
   "outputs": [],
   "source": [
    "n_trials = 5\n",
    "labels_f1 = 1 - train_labels\n",
    "res_tr = []\n",
    "res_t = []\n",
    "for i in range(n_trials):\n",
    "    tr_cur, t_cur, y_tr, y_t = train_test_split(train_data, labels_f1, test_size = 0.25)\n",
    "    rfc.fit(tr_cur.reshape((tr_cur.shape[0], -1)), y_tr)\n",
    "    res_tr.append(f1_score(y_tr, rfc.predict(tr_cur.reshape((tr_cur.shape[0], -1)))))\n",
    "    res_t.append(f1_score(y_t, rfc.predict(t_cur.reshape((t_cur.shape[0], -1)))))\n",
    "print(\"F1-score train: %0.3f +/- %0.3f\" % (np.array(res_tr).mean(), np.array(res_tr).std() * 2))\n",
    "print(\"F1-score test: %0.3f +/- %0.3f\" % (np.array(res_t).mean(), np.array(res_t).std() * 2))"
   ]
  },
  {
   "cell_type": "code",
   "execution_count": null,
   "metadata": {},
   "outputs": [],
   "source": [
    "from sklearn.ensemble import GradientBoostingClassifier\n",
    "gbc = GradientBoostingClassifier(learning_rate=0.001, loss='exponential')\n",
    "gbc.fit(X_train.reshape((X_train.shape[0], -1)), y_train)\n",
    "f1_score(1-y_train, 1-gbc.predict(X_train.reshape((X_train.shape[0], -1)))), f1_score(1-y_test, 1-gbc.predict(X_test.reshape((X_test.shape[0], -1))))"
   ]
  },
  {
   "cell_type": "code",
   "execution_count": 4,
   "metadata": {},
   "outputs": [],
   "source": [
    "from keras.utils import plot_model\n",
    "from keras.models import load_model\n",
    "model1 = load_model('FCN_16_enh.h5', custom_objects= {'f1_score': f1})\n",
    "model2 = load_model('DilNet_16_enh.h5', custom_objects= {'f1': f1})\n",
    "model3 = load_model('FCN_16_enh2.h5', custom_objects= {'f1': f1})"
   ]
  },
  {
   "cell_type": "code",
   "execution_count": 6,
   "metadata": {},
   "outputs": [],
   "source": [
    "import os\n",
    "os.environ[\"PATH\"] += os.pathsep + 'C:/Program Files (x86)/Graphviz2.38/bin/'"
   ]
  },
  {
   "cell_type": "code",
   "execution_count": 8,
   "metadata": {},
   "outputs": [],
   "source": [
    "plot_model(model1, to_file='FCN1.png',show_shapes =True,show_layer_names=False)\n",
    "plot_model(model2, to_file='DilNet1.png',show_shapes =True,show_layer_names=False)\n",
    "plot_model(model3, to_file='FCN2.png',show_shapes =True,show_layer_names=False)"
   ]
  },
  {
   "cell_type": "code",
   "execution_count": null,
   "metadata": {},
   "outputs": [],
   "source": []
  }
 ],
 "metadata": {
  "kernelspec": {
   "display_name": "Python 3",
   "language": "python",
   "name": "python3"
  },
  "language_info": {
   "codemirror_mode": {
    "name": "ipython",
    "version": 3
   },
   "file_extension": ".py",
   "mimetype": "text/x-python",
   "name": "python",
   "nbconvert_exporter": "python",
   "pygments_lexer": "ipython3",
   "version": "3.6.2"
  }
 },
 "nbformat": 4,
 "nbformat_minor": 1
}
