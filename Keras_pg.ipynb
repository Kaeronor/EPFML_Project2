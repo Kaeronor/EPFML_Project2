{
 "cells": [
  {
   "cell_type": "code",
   "execution_count": 1,
   "metadata": {
    "hide_input": false
   },
   "outputs": [
    {
     "name": "stderr",
     "output_type": "stream",
     "text": [
      "Using TensorFlow backend.\n"
     ]
    }
   ],
   "source": [
    "%matplotlib inline\n",
    "import numpy\n",
    "import numpy as np\n",
    "import keras\n",
    "\n",
    "import os\n",
    "import sys\n",
    "import matplotlib.pyplot as plt\n",
    "import matplotlib.image as mpimg\n",
    "from PIL import Image\n",
    "\n",
    "from keras.models import Model, Sequential\n",
    "from keras.layers import Dense, Dropout, Flatten, LeakyReLU, Input, Reshape, Permute, Average\n",
    "from keras.layers import Conv2D, MaxPooling2D, Concatenate, Lambda, Activation, GlobalAveragePooling2D, Conv2DTranspose, GlobalAveragePooling1D\n",
    "from keras.optimizers import SGD, Adam"
   ]
  },
  {
   "cell_type": "markdown",
   "metadata": {
    "hide_input": true
   },
   "source": [
    "# Data loading and preprocessing\n",
    "### Mostly taken from baseline script given in project description\n",
    "1. Images -> square patches of fixed size \n",
    "2. (?) Extract some features from images"
   ]
  },
  {
   "cell_type": "markdown",
   "metadata": {},
   "source": [
    "## 0. Problem-specific parameters"
   ]
  },
  {
   "cell_type": "code",
   "execution_count": 2,
   "metadata": {},
   "outputs": [],
   "source": [
    "NUM_CHANNELS = 3 # RGB images\n",
    "PIXEL_DEPTH = 255\n",
    "NUM_LABELS = 2\n",
    "IMG_SIZE = 400\n",
    "PATCH_SIZE = 16\n",
    "WINDOW_SIZE = 32 # 18px - PATCH_SIZE - 18px\n",
    "NB_WINDOWS = (IMG_SIZE/PATCH_SIZE)**2"
   ]
  },
  {
   "cell_type": "markdown",
   "metadata": {
    "hide_input": true
   },
   "source": [
    "## 1. Functions for image pre/post-processing"
   ]
  },
  {
   "cell_type": "code",
   "execution_count": 100,
   "metadata": {
    "code_folding": [
     60
    ],
    "hide_input": false
   },
   "outputs": [],
   "source": [
    "def img_crop(im, w, h):\n",
    "    list_patches = []\n",
    "    imgwidth = im.shape[0]\n",
    "    imgheight = im.shape[1]\n",
    "    is_2d = len(im.shape) < 3\n",
    "    for i in range(0,imgheight,h):\n",
    "        for j in range(0,imgwidth,w):\n",
    "            if is_2d:\n",
    "                im_patch = im[j:j+w, i:i+h]\n",
    "            else:\n",
    "                im_patch = im[j:j+w, i:i+h, :]\n",
    "            list_patches.append(im_patch)\n",
    "    return list_patches\n",
    "\n",
    "def extract_data(filename, num_images):\n",
    "    \"\"\"Extract the images into a 4D tensor [image index, y, x, channels].\n",
    "    Values are rescaled from [0, 255] down to [-0.5, 0.5].\n",
    "    \"\"\"\n",
    "    imgs = []\n",
    "    tmp_imgs = []\n",
    "    for i in range(1, num_images+1):\n",
    "        imageid = \"satImage_%.3d\" % i\n",
    "        image_filename = filename + imageid + \".png\"\n",
    "        if os.path.isfile(image_filename):\n",
    "            print ('Loading ' + image_filename)\n",
    "            img = Image.open(image_filename)\n",
    "            tmp_imgs.append(img)\n",
    "        else:\n",
    "            print ('File ' + image_filename + ' does not exist')\n",
    "\n",
    "    num_images = len(tmp_imgs)\n",
    "    for i in range(num_images):\n",
    "        imgs.append(np.asarray(tmp_imgs[i]) / 255)\n",
    "        imgs.append(np.asarray(tmp_imgs[i].rotate(90)) / 255)\n",
    "        imgs.append(np.asarray(tmp_imgs[i].rotate(180)) / 255)\n",
    "        imgs.append(np.asarray(tmp_imgs[i].rotate(-90)) / 255)\n",
    "        imgs.append(np.asarray(tmp_imgs[i].transpose(Image.FLIP_LEFT_RIGHT)) / 255)\n",
    "        imgs.append(np.asarray(tmp_imgs[i].transpose(Image.FLIP_TOP_BOTTOM)) / 255)\n",
    "        imgs.append(np.asarray(tmp_imgs[i].transpose(Image.TRANSPOSE)) / 255)\n",
    "    num_images = len(imgs)\n",
    "    IMG_WIDTH = imgs[0].shape[0]\n",
    "    IMG_HEIGHT = imgs[0].shape[1]\n",
    "    N_PATCHES_PER_IMAGE = (IMG_WIDTH/IMG_PATCH_SIZE)*(IMG_HEIGHT/IMG_PATCH_SIZE)\n",
    "    print('Patches per images: ' + str(N_PATCHES_PER_IMAGE))\n",
    "\n",
    "    img_patches = [img_crop(imgs[i], IMG_PATCH_SIZE, IMG_PATCH_SIZE) for i in range(num_images)]\n",
    "\n",
    "    data = np.array([img_patches[i][j] for i in range(len(img_patches)) for j in range(len(img_patches[i]))])\n",
    "\n",
    "    return data\n",
    "\n",
    "# Assign a label to a patch v\n",
    "def value_to_class(v):\n",
    "    foreground_threshold = 0.25 # percentage of pixels > 1 required to assign a foreground label to a patch\n",
    "    df = numpy.sum(v)\n",
    "    if df > foreground_threshold:\n",
    "        return 1 #return [0, 1]\n",
    "    else:\n",
    "        return 0 #return [1, 0]\n",
    "\n",
    "def enhance_save(train_data, train_labels):\n",
    "    data_copy = list(train_data)\n",
    "    path = './windows_train_patch/'\n",
    "    os.makedirs(path, exist_ok=True)\n",
    "    for ind, im in enumerate(data_copy):\n",
    "        cur_name = path + str(ind)\n",
    "        plt.imsave(cur_name + \"_\" + str(train_labels[ind]) + \".png\", im)\n",
    "        plt.imsave(cur_name + \"_\" + str(train_labels[ind]) + \"r90.png\", np.rot90(im))\n",
    "        plt.imsave(cur_name + \"_\" + str(train_labels[ind]) + \"r180.png\", np.rot90(im,k=2))        \n",
    "        plt.imsave(cur_name + \"_\" + str(train_labels[ind]) + \"r270.png\", np.rot90(im,k=3))\n",
    "        plt.imsave(cur_name + \"_\" + str(train_labels[ind]) + \"flr.png\", np.fliplr(im))\n",
    "        plt.imsave(cur_name + \"_\" + str(train_labels[ind]) + \"fud.png\", np.flipud(im))\n",
    "        plt.imsave(cur_name + \"_\" + str(train_labels[ind]) + \"tr.png\", np.transpose(im,(1, 0, 2)))\n",
    "    \n",
    "    del data_copy\n",
    "\n",
    "\n",
    "# Extract label images\n",
    "def extract_labels(filename, num_images):\n",
    "    \"\"\"Extract the labels into a 1-hot matrix [image index, label index].\"\"\"\n",
    "    gt_imgs = []\n",
    "    tmp_imgs = []\n",
    "    for i in range(1, num_images+1):\n",
    "        imageid = \"satImage_%.3d\" % i\n",
    "        image_filename = filename + imageid + \".png\"\n",
    "        if os.path.isfile(image_filename):\n",
    "            print ('Loading ' + image_filename)\n",
    "            img = Image.open(image_filename)\n",
    "            tmp_imgs.append(img)\n",
    "        else:\n",
    "            print ('File ' + image_filename + ' does not exist')\n",
    "\n",
    "    num_images = len(tmp_imgs)\n",
    "    for i in range(num_images):\n",
    "        gt_imgs.append(np.asarray(tmp_imgs[i]) / 255)        \n",
    "        gt_imgs.append(np.asarray(tmp_imgs[i].rotate(90)) / 255)\n",
    "        gt_imgs.append(np.asarray(tmp_imgs[i].rotate(180)) / 255)\n",
    "        gt_imgs.append(np.asarray(tmp_imgs[i].rotate(-90)) / 255)\n",
    "        gt_imgs.append(np.asarray(tmp_imgs[i].transpose(Image.FLIP_LEFT_RIGHT)) / 255)\n",
    "        gt_imgs.append(np.asarray(tmp_imgs[i].transpose(Image.FLIP_TOP_BOTTOM)) / 255)\n",
    "        gt_imgs.append(np.asarray(tmp_imgs[i].transpose(Image.TRANSPOSE)) / 255)\n",
    "    num_images = len(gt_imgs)\n",
    "    gt_patches = [img_crop(gt_imgs[i], IMG_PATCH_SIZE, IMG_PATCH_SIZE) for i in range(num_images)]\n",
    "    data = numpy.array([gt_patches[i][j] for i in range(len(gt_patches)) for j in range(len(gt_patches[i]))])\n",
    "    labels = numpy.array([value_to_class(numpy.mean(data[i])) for i in range(len(data))])\n",
    "\n",
    "    # Convert to dense 1-hot representation.\n",
    "    return labels.astype(numpy.float32)\n",
    "\n",
    "# Convert array of labels to an image\n",
    "def label_to_img_win(imgwidth, imgheight, w, h, labels):\n",
    "    array_labels = numpy.zeros([imgwidth, imgheight])\n",
    "    idx = 0\n",
    "    for i in range(0,imgheight,h):\n",
    "        for j in range(0,imgwidth,w):\n",
    "            if labels[idx] > 0.5:\n",
    "                array_labels[i:i+w, j:j+h] = 1\n",
    "            else:\n",
    "                array_labels[i:i+w, j:j+h] = 0\n",
    "            idx = idx + 1\n",
    "    return array_labels\n",
    "\n",
    "# Convert array of labels to an image\n",
    "def label_to_img(imgwidth, imgheight, w, h, labels):\n",
    "    array_labels = numpy.zeros([imgwidth, imgheight])\n",
    "    idx = 0\n",
    "    for i in range(0,imgheight,h):\n",
    "        for j in range(0,imgwidth,w):\n",
    "            if labels[idx] > 0.5:\n",
    "                array_labels[j:j+w, i:i+h] = 1\n",
    "            else:\n",
    "                array_labels[j:j+w, i:i+h] = 0\n",
    "            idx = idx + 1\n",
    "    return array_labels\n",
    "\n",
    "# Convert array of labels to an image\n",
    "def label_to_img_soft(imgwidth, imgheight, w, h, labels):\n",
    "    array_labels = numpy.zeros([imgwidth, imgheight])\n",
    "    idx = 0\n",
    "    for i in range(0,imgheight,h):\n",
    "        for j in range(0,imgwidth,w):\n",
    "            array_labels[j:j+w, i:i+h] = labels[idx]\n",
    "            idx = idx + 1\n",
    "    return array_labels\n",
    "\n",
    "def img_float_to_uint8(img):\n",
    "    rimg = img - numpy.min(img)\n",
    "    rimg = (rimg / numpy.max(rimg) * PIXEL_DEPTH).round().astype(numpy.uint8)\n",
    "    return rimg"
   ]
  },
  {
   "cell_type": "markdown",
   "metadata": {},
   "source": [
    "## Generate windows with mirror boundaries"
   ]
  },
  {
   "cell_type": "code",
   "execution_count": null,
   "metadata": {
    "code_folding": [
     0
    ],
    "hide_input": true
   },
   "outputs": [],
   "source": [
    "def compute(img_train, train_labels, window_size, patch_size):\n",
    "    train_data = []\n",
    "    nb_windows = (IMG_SIZE/patch_size)**2\n",
    "    for im in img_train:\n",
    "        w_im = sliding_window(im, window_size, patch_size)\n",
    "        train_data += w_im\n",
    "    \n",
    "    return np.asarray(train_data).reshape((-1, window_size, window_size, 3)), np.asarray(train_labels)\n",
    "\n",
    "def compute_test(imgs, window_size, patch_size):\n",
    "    res_data = []\n",
    "    nb_windows = (IMG_SIZE/patch_size)**2\n",
    "    for im in imgs:\n",
    "        w_im = sliding_window(im, window_size, patch_size)\n",
    "        res_data += w_im\n",
    "    \n",
    "    return np.asarray(res_data).reshape((-1, window_size, window_size, 3))\n",
    "\n",
    "def apply_mirror_boundary_conditions(coord, dim):\n",
    "    \"\"\"\n",
    "    Return the correct coordinate according to mirror boundary conditions\n",
    "        coord: a coordinate (x or y) in the image\n",
    "        dim: the length of the axis of said coordinate\n",
    "    \"\"\"\n",
    "    # If the coordinate is outside of the bounds of the axis, take its reflection inside the image\n",
    "    if coord < 0:\n",
    "        coord = -coord\n",
    "    elif coord >= dim:\n",
    "        coord =  2*(dim-1) - coord % (2*(dim-1))\n",
    "    # Else, do nothing\n",
    "    return int(coord)\n",
    "\n",
    "def get_window(image, window_size, corner_coordinates, patch_size):\n",
    "    \"\"\"\n",
    "    Get a window in image, centered on a patch, taking into account boundary conditions\n",
    "        image: a numpy array representing our image\n",
    "        window_size: an even number specifying the size of the window\n",
    "        corner_coordinates: a list containing the x-y coordinates of the patch's upleft pixel\n",
    "        path_size: an even number specifying the size of the central patch\n",
    "    \"\"\"\n",
    "    # Get convenient variables\n",
    "    window_radius = window_size/2\n",
    "    border_size = (window_size - patch_size)/2\n",
    "    i_patch_corner, j_patch_corner = (corner_coordinates[0], corner_coordinates[1])\n",
    "    i_window_corner, j_window_corner = (i_patch_corner - border_size, j_patch_corner - border_size)\n",
    "    nrows, ncols, nchannels = image.shape\n",
    "    window = np.zeros((window_size, window_size, nchannels))\n",
    "    \n",
    "    # Fill in the window array with pixels of the image\n",
    "    for i in range(window_size):\n",
    "        # Apply mirror boundary conditions on the x-coordinate\n",
    "        i_mirrored = apply_mirror_boundary_conditions(i_window_corner + i, nrows)\n",
    "        for j in range(window_size):\n",
    "            # Same for the y-coordinate\n",
    "            j_mirrored = apply_mirror_boundary_conditions(j_window_corner + j, ncols)\n",
    "            # Fill in the window with the corresponding pixel\n",
    "            window[i, j, :] = image[i_mirrored, j_mirrored, :]\n",
    "    return window\n",
    "def shift_to_the_right(image, window, corner_coordinates, patch_size):\n",
    "    nrows, ncols, _ = image.shape\n",
    "    window_size = len(window)\n",
    "    #window_radius = window_size/2\n",
    "    border_size = (window_size - patch_size)/2\n",
    "    i_patch_corner, j_patch_corner = (corner_coordinates[0], corner_coordinates[1])\n",
    "    i_window_corner, j_window_corner = (i_patch_corner - border_size, j_patch_corner - border_size)\n",
    "    step = patch_size\n",
    "    \n",
    "    shifted = np.roll(window, -step, axis=1)\n",
    "    for i in range(window_size):\n",
    "        i_mirrored = apply_mirror_boundary_conditions(i_window_corner + i, nrows)            \n",
    "        for j in range(window_size-step, window_size):\n",
    "            j_mirrored = apply_mirror_boundary_conditions(j_window_corner + j + step, ncols)\n",
    "            shifted[i, j, :] = image[i_mirrored, j_mirrored, :]\n",
    "    return shifted\n",
    "\n",
    "def shift_to_the_bottom(image, window, corner_coordinates, patch_size):\n",
    "    nrows, ncols, _ = image.shape\n",
    "    window_size = len(window)\n",
    "    #window_radius = window_size/2\n",
    "    border_size = (window_size - patch_size)/2\n",
    "    i_patch_corner, j_patch_corner = (corner_coordinates[0], corner_coordinates[1])\n",
    "    i_window_corner, j_window_corner = (i_patch_corner - border_size, j_patch_corner - border_size)\n",
    "    step = patch_size\n",
    "    \n",
    "    shifted = np.roll(window, -step, axis=0)\n",
    "    for j in range(window_size):\n",
    "        j_mirrored = apply_mirror_boundary_conditions(j_window_corner + j, ncols)\n",
    "        for i in range(window_size-step, window_size):\n",
    "            i_mirrored = apply_mirror_boundary_conditions(i_window_corner + i + step, nrows)\n",
    "            shifted[i, j, :] = image[i_mirrored, j_mirrored, :]\n",
    "    return shifted\n",
    "\n",
    "def sliding_window(image, window_size, patch_size):\n",
    "    \"\"\"\n",
    "    Construct a list of sliding windows of given size on an image.\n",
    "    The windows, centered on a patch, will slide from left to right and from up to down.\n",
    "        image: a numpy array representing our image\n",
    "        window_size: an even number specifying the size of the window\n",
    "        patch_size: the size of the central patch\n",
    "    \"\"\"\n",
    "    nrows, ncols, _ = image.shape\n",
    "    windows = []\n",
    "    i = 0\n",
    "    row_windows = [get_window(image, window_size, [i, 0], patch_size)]\n",
    "    for j in range(patch_size, ncols-1, patch_size):\n",
    "        #print(j)\n",
    "        row_windows += [shift_to_the_right(image, row_windows[-1], [i, j], patch_size)]\n",
    "    windows += row_windows\n",
    "    #print('===')\n",
    "    for i in range(patch_size, nrows-1, patch_size):\n",
    "        #print(i)\n",
    "        row_windows = [shift_to_the_bottom(image, row_windows[int(j/patch_size)], [i, j], patch_size) \n",
    "                       for j in range(0, ncols-1, patch_size)]\n",
    "        #print(len(row_windows))\n",
    "        windows += row_windows\n",
    "    return windows"
   ]
  },
  {
   "cell_type": "markdown",
   "metadata": {},
   "source": [
    "## 3. Load images from dataset, convert to inputs for model"
   ]
  },
  {
   "cell_type": "markdown",
   "metadata": {},
   "source": [
    "Model parameters"
   ]
  },
  {
   "cell_type": "code",
   "execution_count": 190,
   "metadata": {},
   "outputs": [],
   "source": [
    "IMG_PATCH_SIZE = 16\n",
    "TRAINING_SIZE = 100\n",
    "BATCH_SIZE = 32\n",
    "NUM_EPOCHS = 30\n",
    "a = 0.0001"
   ]
  },
  {
   "cell_type": "code",
   "execution_count": 5,
   "metadata": {
    "hide_input": false
   },
   "outputs": [
    {
     "name": "stdout",
     "output_type": "stream",
     "text": [
      "Loading training/images/satImage_001.png\n",
      "Loading training/images/satImage_002.png\n",
      "Loading training/images/satImage_003.png\n",
      "Loading training/images/satImage_004.png\n",
      "Loading training/images/satImage_005.png\n",
      "Loading training/images/satImage_006.png\n",
      "Loading training/images/satImage_007.png\n",
      "Loading training/images/satImage_008.png\n",
      "Loading training/images/satImage_009.png\n",
      "Loading training/images/satImage_010.png\n",
      "Loading training/images/satImage_011.png\n",
      "Loading training/images/satImage_012.png\n",
      "Loading training/images/satImage_013.png\n",
      "Loading training/images/satImage_014.png\n",
      "Loading training/images/satImage_015.png\n",
      "Loading training/images/satImage_016.png\n",
      "Loading training/images/satImage_017.png\n",
      "Loading training/images/satImage_018.png\n",
      "Loading training/images/satImage_019.png\n",
      "Loading training/images/satImage_020.png\n",
      "Loading training/images/satImage_021.png\n",
      "Loading training/images/satImage_022.png\n",
      "Loading training/images/satImage_023.png\n",
      "Loading training/images/satImage_024.png\n",
      "Loading training/images/satImage_025.png\n",
      "Loading training/images/satImage_026.png\n",
      "Loading training/images/satImage_027.png\n",
      "Loading training/images/satImage_028.png\n",
      "Loading training/images/satImage_029.png\n",
      "Loading training/images/satImage_030.png\n",
      "Loading training/images/satImage_031.png\n",
      "Loading training/images/satImage_032.png\n",
      "Loading training/images/satImage_033.png\n",
      "Loading training/images/satImage_034.png\n",
      "Loading training/images/satImage_035.png\n",
      "Loading training/images/satImage_036.png\n",
      "Loading training/images/satImage_037.png\n",
      "Loading training/images/satImage_038.png\n",
      "Loading training/images/satImage_039.png\n",
      "Loading training/images/satImage_040.png\n",
      "Loading training/images/satImage_041.png\n",
      "Loading training/images/satImage_042.png\n",
      "Loading training/images/satImage_043.png\n",
      "Loading training/images/satImage_044.png\n",
      "Loading training/images/satImage_045.png\n",
      "Loading training/images/satImage_046.png\n",
      "Loading training/images/satImage_047.png\n",
      "Loading training/images/satImage_048.png\n",
      "Loading training/images/satImage_049.png\n",
      "Loading training/images/satImage_050.png\n",
      "Loading training/images/satImage_051.png\n",
      "Loading training/images/satImage_052.png\n",
      "Loading training/images/satImage_053.png\n",
      "Loading training/images/satImage_054.png\n",
      "Loading training/images/satImage_055.png\n",
      "Loading training/images/satImage_056.png\n",
      "Loading training/images/satImage_057.png\n",
      "Loading training/images/satImage_058.png\n",
      "Loading training/images/satImage_059.png\n",
      "Loading training/images/satImage_060.png\n",
      "Loading training/images/satImage_061.png\n",
      "Loading training/images/satImage_062.png\n",
      "Loading training/images/satImage_063.png\n",
      "Loading training/images/satImage_064.png\n",
      "Loading training/images/satImage_065.png\n",
      "Loading training/images/satImage_066.png\n",
      "Loading training/images/satImage_067.png\n",
      "Loading training/images/satImage_068.png\n",
      "Loading training/images/satImage_069.png\n",
      "Loading training/images/satImage_070.png\n",
      "Loading training/images/satImage_071.png\n",
      "Loading training/images/satImage_072.png\n",
      "Loading training/images/satImage_073.png\n",
      "Loading training/images/satImage_074.png\n",
      "Loading training/images/satImage_075.png\n",
      "Loading training/images/satImage_076.png\n",
      "Loading training/images/satImage_077.png\n",
      "Loading training/images/satImage_078.png\n",
      "Loading training/images/satImage_079.png\n",
      "Loading training/images/satImage_080.png\n",
      "Loading training/images/satImage_081.png\n",
      "Loading training/images/satImage_082.png\n",
      "Loading training/images/satImage_083.png\n",
      "Loading training/images/satImage_084.png\n",
      "Loading training/images/satImage_085.png\n",
      "Loading training/images/satImage_086.png\n",
      "Loading training/images/satImage_087.png\n",
      "Loading training/images/satImage_088.png\n",
      "Loading training/images/satImage_089.png\n",
      "Loading training/images/satImage_090.png\n",
      "Loading training/images/satImage_091.png\n",
      "Loading training/images/satImage_092.png\n",
      "Loading training/images/satImage_093.png\n",
      "Loading training/images/satImage_094.png\n",
      "Loading training/images/satImage_095.png\n",
      "Loading training/images/satImage_096.png\n",
      "Loading training/images/satImage_097.png\n",
      "Loading training/images/satImage_098.png\n",
      "Loading training/images/satImage_099.png\n",
      "Loading training/images/satImage_100.png\n",
      "Patches per images: 625.0\n",
      "Loading training/groundtruth/satImage_001.png\n",
      "Loading training/groundtruth/satImage_002.png\n",
      "Loading training/groundtruth/satImage_003.png\n",
      "Loading training/groundtruth/satImage_004.png\n",
      "Loading training/groundtruth/satImage_005.png\n",
      "Loading training/groundtruth/satImage_006.png\n",
      "Loading training/groundtruth/satImage_007.png\n",
      "Loading training/groundtruth/satImage_008.png\n",
      "Loading training/groundtruth/satImage_009.png\n",
      "Loading training/groundtruth/satImage_010.png\n",
      "Loading training/groundtruth/satImage_011.png\n",
      "Loading training/groundtruth/satImage_012.png\n",
      "Loading training/groundtruth/satImage_013.png\n",
      "Loading training/groundtruth/satImage_014.png\n",
      "Loading training/groundtruth/satImage_015.png\n",
      "Loading training/groundtruth/satImage_016.png\n",
      "Loading training/groundtruth/satImage_017.png\n",
      "Loading training/groundtruth/satImage_018.png\n",
      "Loading training/groundtruth/satImage_019.png\n",
      "Loading training/groundtruth/satImage_020.png\n",
      "Loading training/groundtruth/satImage_021.png\n",
      "Loading training/groundtruth/satImage_022.png\n",
      "Loading training/groundtruth/satImage_023.png\n",
      "Loading training/groundtruth/satImage_024.png\n",
      "Loading training/groundtruth/satImage_025.png\n",
      "Loading training/groundtruth/satImage_026.png\n",
      "Loading training/groundtruth/satImage_027.png\n",
      "Loading training/groundtruth/satImage_028.png\n",
      "Loading training/groundtruth/satImage_029.png\n",
      "Loading training/groundtruth/satImage_030.png\n",
      "Loading training/groundtruth/satImage_031.png\n",
      "Loading training/groundtruth/satImage_032.png\n",
      "Loading training/groundtruth/satImage_033.png\n",
      "Loading training/groundtruth/satImage_034.png\n",
      "Loading training/groundtruth/satImage_035.png\n",
      "Loading training/groundtruth/satImage_036.png\n",
      "Loading training/groundtruth/satImage_037.png\n",
      "Loading training/groundtruth/satImage_038.png\n",
      "Loading training/groundtruth/satImage_039.png\n",
      "Loading training/groundtruth/satImage_040.png\n",
      "Loading training/groundtruth/satImage_041.png\n",
      "Loading training/groundtruth/satImage_042.png\n",
      "Loading training/groundtruth/satImage_043.png\n",
      "Loading training/groundtruth/satImage_044.png\n",
      "Loading training/groundtruth/satImage_045.png\n",
      "Loading training/groundtruth/satImage_046.png\n",
      "Loading training/groundtruth/satImage_047.png\n",
      "Loading training/groundtruth/satImage_048.png\n",
      "Loading training/groundtruth/satImage_049.png\n",
      "Loading training/groundtruth/satImage_050.png\n",
      "Loading training/groundtruth/satImage_051.png\n",
      "Loading training/groundtruth/satImage_052.png\n",
      "Loading training/groundtruth/satImage_053.png\n",
      "Loading training/groundtruth/satImage_054.png\n",
      "Loading training/groundtruth/satImage_055.png\n",
      "Loading training/groundtruth/satImage_056.png\n",
      "Loading training/groundtruth/satImage_057.png\n",
      "Loading training/groundtruth/satImage_058.png\n",
      "Loading training/groundtruth/satImage_059.png\n",
      "Loading training/groundtruth/satImage_060.png\n",
      "Loading training/groundtruth/satImage_061.png\n",
      "Loading training/groundtruth/satImage_062.png\n",
      "Loading training/groundtruth/satImage_063.png\n",
      "Loading training/groundtruth/satImage_064.png\n",
      "Loading training/groundtruth/satImage_065.png\n",
      "Loading training/groundtruth/satImage_066.png\n",
      "Loading training/groundtruth/satImage_067.png\n",
      "Loading training/groundtruth/satImage_068.png\n",
      "Loading training/groundtruth/satImage_069.png\n",
      "Loading training/groundtruth/satImage_070.png\n",
      "Loading training/groundtruth/satImage_071.png\n",
      "Loading training/groundtruth/satImage_072.png\n",
      "Loading training/groundtruth/satImage_073.png\n",
      "Loading training/groundtruth/satImage_074.png\n",
      "Loading training/groundtruth/satImage_075.png\n",
      "Loading training/groundtruth/satImage_076.png\n",
      "Loading training/groundtruth/satImage_077.png\n",
      "Loading training/groundtruth/satImage_078.png\n",
      "Loading training/groundtruth/satImage_079.png\n",
      "Loading training/groundtruth/satImage_080.png\n",
      "Loading training/groundtruth/satImage_081.png\n",
      "Loading training/groundtruth/satImage_082.png\n",
      "Loading training/groundtruth/satImage_083.png\n",
      "Loading training/groundtruth/satImage_084.png\n",
      "Loading training/groundtruth/satImage_085.png\n",
      "Loading training/groundtruth/satImage_086.png\n",
      "Loading training/groundtruth/satImage_087.png\n",
      "Loading training/groundtruth/satImage_088.png\n",
      "Loading training/groundtruth/satImage_089.png\n",
      "Loading training/groundtruth/satImage_090.png\n",
      "Loading training/groundtruth/satImage_091.png\n",
      "Loading training/groundtruth/satImage_092.png\n",
      "Loading training/groundtruth/satImage_093.png\n",
      "Loading training/groundtruth/satImage_094.png\n",
      "Loading training/groundtruth/satImage_095.png\n",
      "Loading training/groundtruth/satImage_096.png\n",
      "Loading training/groundtruth/satImage_097.png\n",
      "Loading training/groundtruth/satImage_098.png\n",
      "Loading training/groundtruth/satImage_099.png\n",
      "Loading training/groundtruth/satImage_100.png\n"
     ]
    }
   ],
   "source": [
    "data_dir = 'training/'\n",
    "train_data_filename = data_dir + 'images/'\n",
    "train_labels_filename = data_dir + 'groundtruth/' \n",
    "\n",
    "# Extract it into numpy arrays.\n",
    "train_data = extract_data(train_data_filename, TRAINING_SIZE)\n",
    "train_labels = extract_labels(train_labels_filename, TRAINING_SIZE)"
   ]
  },
  {
   "cell_type": "code",
   "execution_count": 6,
   "metadata": {},
   "outputs": [
    {
     "data": {
      "text/plain": [
       "((437500, 16, 16, 3), (437500,))"
      ]
     },
     "execution_count": 6,
     "metadata": {},
     "output_type": "execute_result"
    }
   ],
   "source": [
    "train_data.shape, train_labels.shape"
   ]
  },
  {
   "cell_type": "code",
   "execution_count": 9,
   "metadata": {
    "hide_input": false
   },
   "outputs": [
    {
     "name": "stdout",
     "output_type": "stream",
     "text": [
      "Image size = 16,16\n"
     ]
    },
    {
     "data": {
      "text/plain": [
       "<matplotlib.image.AxesImage at 0x21d3c29f358>"
      ]
     },
     "execution_count": 9,
     "metadata": {},
     "output_type": "execute_result"
    },
    {
     "data": {
      "image/png": "[encoded data removed]",
      "text/plain": [
       "<matplotlib.figure.Figure at 0x21d6a2b1588>"
      ]
     },
     "metadata": {},
     "output_type": "display_data"
    }
   ],
   "source": [
    "print('Image size = ' + str(train_data[0].shape[0]) + ',' + str(train_data[0].shape[1]))\n",
    "\n",
    "# Show first image and its groundtruth image\n",
    "cimg = label_to_img(400, 400, 16, 16, train_labels[:,])\n",
    "fig1 = plt.figure(figsize=(10, 10))\n",
    "plt.imshow(cimg, cmap='Greys_r')"
   ]
  },
  {
   "cell_type": "code",
   "execution_count": null,
   "metadata": {},
   "outputs": [],
   "source": [
    "imgs, labels = compute(train_data, train_labels, WINDOW_SIZE, PATCH_SIZE)"
   ]
  },
  {
   "cell_type": "code",
   "execution_count": null,
   "metadata": {},
   "outputs": [],
   "source": [
    "imgs.shape, labels.shape"
   ]
  },
  {
   "cell_type": "markdown",
   "metadata": {},
   "source": [
    "## Different ConvNet-based models"
   ]
  },
  {
   "cell_type": "code",
   "execution_count": 10,
   "metadata": {},
   "outputs": [],
   "source": [
    "INPUT_SIZE = PATCH_SIZE"
   ]
  },
  {
   "cell_type": "markdown",
   "metadata": {},
   "source": [
    "#### Simple VGG-like ConvNet (gives ~84% acc, maybe longer training gives extra 2-3%) "
   ]
  },
  {
   "cell_type": "code",
   "execution_count": null,
   "metadata": {},
   "outputs": [],
   "source": [
    "model = Sequential()\n",
    "model.add(Conv2D(32, 2, input_shape=(INPUT_SIZE, INPUT_SIZE, NUM_CHANNELS)))\n",
    "model.add(LeakyReLU(alpha=a))\n",
    "model.add(Conv2D(32, 2))\n",
    "model.add(LeakyReLU(alpha=a))\n",
    "model.add(MaxPooling2D(pool_size=(2, 2)))\n",
    "model.add(Dropout(0.25))\n",
    "\n",
    "model.add(Conv2D(64, 2))\n",
    "model.add(LeakyReLU(alpha=a))\n",
    "model.add(Conv2D(64, 2))\n",
    "model.add(LeakyReLU(alpha=a))\n",
    "model.add(MaxPooling2D(pool_size=(2, 2)))\n",
    "model.add(Dropout(0.25))\n",
    "\n",
    "model.add(Flatten())\n",
    "model.add(Dense(128))\n",
    "model.add(Dropout(0.5))\n",
    "model.add(LeakyReLU(alpha=a))\n",
    "model.add(Dense(1, activation='sigmoid'))"
   ]
  },
  {
   "cell_type": "markdown",
   "metadata": {},
   "source": [
    "#### SqueezeNet-like model"
   ]
  },
  {
   "cell_type": "code",
   "execution_count": null,
   "metadata": {
    "code_folding": [
     1
    ]
   },
   "outputs": [],
   "source": [
    "from keras.engine.topology import Layer\n",
    "def fire(x, squeeze, expand):\n",
    "    x = Conv2D(squeeze, 1)(x)\n",
    "    x = LeakyReLU(alpha=a)(x)\n",
    "    e11 = Conv2D(expand, 1)(x)\n",
    "    e11 = LeakyReLU(alpha=a)(e11)\n",
    "    e33 = Conv2D(expand, 1)(x)\n",
    "    e33 = LeakyReLU(alpha=a)(e33)\n",
    "    return Concatenate(axis=3)([e11, e33])"
   ]
  },
  {
   "cell_type": "code",
   "execution_count": null,
   "metadata": {},
   "outputs": [],
   "source": [
    "inputs = Input(shape=(IMG_PATCH_SIZE, IMG_PATCH_SIZE, NUM_CHANNELS))\n",
    "x = Conv2D(32, kernel_size=3, strides=2, input_shape=(IMG_PATCH_SIZE, IMG_PATCH_SIZE, NUM_CHANNELS))(inputs)\n",
    "x = LeakyReLU(alpha=a)(x)\n",
    "x = MaxPooling2D(pool_size=3, strides=2)(x)\n",
    "\n",
    "x = fire(x, squeeze=8, expand=16)\n",
    "x = fire(x, squeeze=8, expand=16)\n",
    "x = MaxPooling2D(pool_size=3, strides=2)(x)\n",
    "\n",
    "'''x = fire(x, squeeze=32, expand=128)\n",
    "x = fire(x, squeeze=32, expand=128)\n",
    "x = MaxPooling2D(pool_size=3, strides=2)(x)\n",
    "\n",
    "x = fire(x, squeeze=48, expand=192)\n",
    "x = fire(x, squeeze=48, expand=192)\n",
    "x = fire(x, squeeze=64, expand=256)\n",
    "x = fire(x, squeeze=64, expand=256)\n",
    "x = MaxPooling2D(pool_size=3, strides=2)(x)'''\n",
    "x = Flatten()(x)\n",
    "x = Dense(1, activation='sigmoid')(x)\n",
    "\n",
    "model = Model(inputs, x)"
   ]
  },
  {
   "cell_type": "markdown",
   "metadata": {},
   "source": [
    "#### FCN (again, from tutorial network)"
   ]
  },
  {
   "cell_type": "code",
   "execution_count": 204,
   "metadata": {},
   "outputs": [],
   "source": [
    "model = Sequential()\n",
    "model.add(Conv2D(32, 2, input_shape=(INPUT_SIZE, INPUT_SIZE, NUM_CHANNELS)))\n",
    "model.add(LeakyReLU(alpha=a))\n",
    "model.add(Conv2D(32, 2))\n",
    "model.add(LeakyReLU(alpha=a))\n",
    "model.add(MaxPooling2D(pool_size=(2, 2)))\n",
    "model.add(Dropout(0.25))\n",
    "\n",
    "model.add(Conv2D(64, 2))\n",
    "model.add(LeakyReLU(alpha=a))\n",
    "model.add(Conv2D(64, 2))\n",
    "model.add(LeakyReLU(alpha=a))\n",
    "model.add(MaxPooling2D(pool_size=(2, 2)))\n",
    "model.add(Dropout(0.25))\n",
    "\n",
    "model.add(Conv2D(128, 2))\n",
    "model.add(LeakyReLU(alpha=a))\n",
    "model.add(Conv2D(128, 1))\n",
    "model.add(LeakyReLU(alpha=a))\n",
    "model.add(Dropout(0.25))\n",
    "\n",
    "model.add(Conv2DTranspose(1, kernel_size=IMG_PATCH_SIZE - 1, padding='valid'))\n",
    "model.add(GlobalAveragePooling2D())\n",
    "model.add(Activation('sigmoid'))"
   ]
  },
  {
   "cell_type": "markdown",
   "metadata": {},
   "source": [
    "## Print model structure"
   ]
  },
  {
   "cell_type": "code",
   "execution_count": 206,
   "metadata": {},
   "outputs": [
    {
     "name": "stdout",
     "output_type": "stream",
     "text": [
      "(None, 16, 16, 3) (None, 15, 15, 32)\n",
      "(None, 15, 15, 32) (None, 15, 15, 32)\n",
      "(None, 15, 15, 32) (None, 14, 14, 32)\n",
      "(None, 14, 14, 32) (None, 14, 14, 32)\n",
      "(None, 14, 14, 32) (None, 7, 7, 32)\n",
      "(None, 7, 7, 32) (None, 7, 7, 32)\n",
      "(None, 7, 7, 32) (None, 6, 6, 64)\n",
      "(None, 6, 6, 64) (None, 6, 6, 64)\n",
      "(None, 6, 6, 64) (None, 5, 5, 64)\n",
      "(None, 5, 5, 64) (None, 5, 5, 64)\n",
      "(None, 5, 5, 64) (None, 2, 2, 64)\n",
      "(None, 2, 2, 64) (None, 2, 2, 64)\n",
      "(None, 2, 2, 64) (None, 1, 1, 128)\n",
      "(None, 1, 1, 128) (None, 1, 1, 128)\n",
      "(None, 1, 1, 128) (None, 1, 1, 128)\n",
      "(None, 1, 1, 128) (None, 1, 1, 128)\n",
      "(None, 1, 1, 128) (None, 1, 1, 128)\n",
      "(None, 1, 1, 128) (None, 15, 15, 1)\n",
      "(None, 15, 15, 1) (None, 1)\n",
      "(None, 1) (None, 1)\n"
     ]
    }
   ],
   "source": [
    "for layer in model.layers:\n",
    "    print(layer.input_shape,layer.output_shape )"
   ]
  },
  {
   "cell_type": "markdown",
   "metadata": {
    "collapsed": true
   },
   "source": [
    "Optimization"
   ]
  },
  {
   "cell_type": "code",
   "execution_count": 16,
   "metadata": {
    "code_folding": []
   },
   "outputs": [],
   "source": [
    "import keras.backend as K\n",
    "def f1_score(y_true, y_pred):\n",
    "\n",
    "    # Count positive samples.\n",
    "    c1 = K.sum(K.round(K.clip(y_true * y_pred, 0, 1)))\n",
    "    c2 = K.sum(K.round(K.clip(y_pred, 0, 1)))\n",
    "    c3 = K.sum(K.round(K.clip(y_true, 0, 1)))\n",
    "\n",
    "    # If there are no true samples, fix the F1 score at 0.\n",
    "    if c3 == 0:\n",
    "        return 0\n",
    "    # How many selected items are relevant?\n",
    "    precision = c1 / c2\n",
    "\n",
    "    # How many relevant items are selected?\n",
    "    recall = c1 / c3\n",
    "\n",
    "    # Calculate f1_score\n",
    "    f1_score = 2 * (precision * recall) / (precision + recall)\n",
    "    return f1_score"
   ]
  },
  {
   "cell_type": "code",
   "execution_count": null,
   "metadata": {},
   "outputs": [
    {
     "name": "stdout",
     "output_type": "stream",
     "text": [
      "Epoch 1/30\n",
      "437500/437500 [==============================] - 387s - loss: 0.4274 - acc: 0.7960   \n",
      "Epoch 2/30\n",
      "437500/437500 [==============================] - 342s - loss: 0.3906 - acc: 0.8157   \n",
      "Epoch 3/30\n",
      "437500/437500 [==============================] - 335s - loss: 0.3761 - acc: 0.8257   \n",
      "Epoch 4/30\n",
      "437500/437500 [==============================] - 287s - loss: 0.3665 - acc: 0.8317   \n",
      "Epoch 5/30\n",
      "437500/437500 [==============================] - 241s - loss: 0.3617 - acc: 0.8351   \n",
      "Epoch 6/30\n",
      "437500/437500 [==============================] - 240s - loss: 0.3571 - acc: 0.8377   \n",
      "Epoch 7/30\n",
      "437500/437500 [==============================] - 240s - loss: 0.3541 - acc: 0.8399   \n",
      "Epoch 8/30\n",
      "437500/437500 [==============================] - 240s - loss: 0.3494 - acc: 0.8423   \n",
      "Epoch 9/30\n",
      "437500/437500 [==============================] - 240s - loss: 0.3473 - acc: 0.8427   \n",
      "Epoch 10/30\n",
      "437500/437500 [==============================] - 240s - loss: 0.3459 - acc: 0.8440   \n",
      "Epoch 11/30\n",
      "437500/437500 [==============================] - 240s - loss: 0.3437 - acc: 0.8460   \n",
      "Epoch 12/30\n",
      "437500/437500 [==============================] - 270s - loss: 0.3412 - acc: 0.8471   \n",
      "Epoch 13/30\n",
      "437500/437500 [==============================] - 273s - loss: 0.3401 - acc: 0.8479   \n",
      "Epoch 14/30\n",
      "437500/437500 [==============================] - 268s - loss: 0.3387 - acc: 0.8485   \n",
      "Epoch 15/30\n",
      "437500/437500 [==============================] - 263s - loss: 0.3388 - acc: 0.8489   \n",
      "Epoch 16/30\n",
      "437500/437500 [==============================] - 264s - loss: 0.3370 - acc: 0.8493   \n",
      "Epoch 17/30\n",
      "437500/437500 [==============================] - 275s - loss: 0.3368 - acc: 0.8493   \n",
      "Epoch 18/30\n",
      "437500/437500 [==============================] - 265s - loss: 0.3369 - acc: 0.8496   \n",
      "Epoch 19/30\n",
      "437500/437500 [==============================] - 271s - loss: 0.3359 - acc: 0.8505   \n",
      "Epoch 20/30\n",
      "437500/437500 [==============================] - 274s - loss: 0.3352 - acc: 0.8505   \n",
      "Epoch 21/30\n",
      "437500/437500 [==============================] - 265s - loss: 0.3347 - acc: 0.8510   \n",
      "Epoch 22/30\n",
      "248992/437500 [================>.............] - ETA: 120s - loss: 0.3355 - acc: 0.8505"
     ]
    }
   ],
   "source": [
    "LR = 0.001\n",
    "DECAY = 0.00000\n",
    "adam = Adam(lr=LR, decay=DECAY)\n",
    "\n",
    "model.compile(loss='binary_crossentropy', optimizer=adam, metrics=['acc'])\n",
    "\n",
    "model.fit(train_data, train_labels, batch_size=BATCH_SIZE, epochs=NUM_EPOCHS)"
   ]
  },
  {
   "cell_type": "code",
   "execution_count": 19,
   "metadata": {},
   "outputs": [
    {
     "ename": "NameError",
     "evalue": "name 'imgs' is not defined",
     "output_type": "error",
     "traceback": [
      "\u001b[1;31m---------------------------------------------------------------------------\u001b[0m",
      "\u001b[1;31mNameError\u001b[0m                                 Traceback (most recent call last)",
      "\u001b[1;32m<ipython-input-19-70d852ba955c>\u001b[0m in \u001b[0;36m<module>\u001b[1;34m()\u001b[0m\n\u001b[1;32m----> 1\u001b[1;33m \u001b[0mscore\u001b[0m \u001b[1;33m=\u001b[0m \u001b[0mmodel\u001b[0m\u001b[1;33m.\u001b[0m\u001b[0mevaluate\u001b[0m\u001b[1;33m(\u001b[0m\u001b[0mimgs\u001b[0m\u001b[1;33m,\u001b[0m \u001b[0mlabels\u001b[0m\u001b[1;33m)\u001b[0m\u001b[1;33m\u001b[0m\u001b[0m\n\u001b[0m\u001b[0;32m      2\u001b[0m \u001b[0mscore\u001b[0m\u001b[1;33m\u001b[0m\u001b[0m\n",
      "\u001b[1;31mNameError\u001b[0m: name 'imgs' is not defined"
     ]
    }
   ],
   "source": [
    "score = model.evaluate(imgs, labels)\n",
    "score"
   ]
  },
  {
   "cell_type": "code",
   "execution_count": 20,
   "metadata": {},
   "outputs": [],
   "source": [
    "model.save('FCN_16_enh2.h5')"
   ]
  },
  {
   "cell_type": "markdown",
   "metadata": {
    "collapsed": true
   },
   "source": [
    "## Test predictions"
   ]
  },
  {
   "cell_type": "code",
   "execution_count": 21,
   "metadata": {
    "code_folding": []
   },
   "outputs": [],
   "source": [
    "import re\n",
    "\n",
    "def extract_test_data(filename, num_images):\n",
    "    \"\"\"Extract the images into a 4D tensor [image index, y, x, channels].\n",
    "    Values are rescaled from [0, 255] down to [-0.5, 0.5].\n",
    "    \"\"\"\n",
    "    imgs = []\n",
    "    names = []\n",
    "    for i in range(1, num_images+1):\n",
    "        imageid = \"test_{}/test_{}\".format(i,i)\n",
    "        image_filename = filename + imageid + \".png\"\n",
    "        if os.path.isfile(image_filename):\n",
    "            #print ('Loading ' + image_filename)\n",
    "            img = mpimg.imread(image_filename)\n",
    "            imgs.append(img)\n",
    "            names.append(image_filename)\n",
    "        else:\n",
    "            print ('File ' + image_filename + ' does not exist')\n",
    "    return np.array(imgs), names\n",
    "\n",
    "# Get prediction for given input image \n",
    "def keras_prediction(model, img):\n",
    "    data = numpy.asarray(img_crop(img, IMG_PATCH_SIZE, IMG_PATCH_SIZE))\n",
    "    output_prediction = model.predict(data)\n",
    "    img_prediction = label_to_img(img.shape[0], img.shape[1], IMG_PATCH_SIZE, IMG_PATCH_SIZE, output_prediction)\n",
    "\n",
    "    return img_prediction\n",
    "\n",
    "# Get prediction for given input image \n",
    "def keras_prediction_win(model, img):\n",
    "    img_wins = np.asarray(sliding_window(img, WINDOW_SIZE, IMG_PATCH_SIZE))\n",
    "    output_prediction = model.predict(img_wins)\n",
    "    img_prediction = label_to_img_win(img.shape[0], img.shape[1], IMG_PATCH_SIZE, IMG_PATCH_SIZE, output_prediction)\n",
    "\n",
    "    return img_prediction\n",
    "\n",
    "foreground_threshold = 0.25 # percentage of pixels > 1 required to assign a foreground label to a patch\n",
    "\n",
    "# assign a label to a patch\n",
    "def patch_to_label(patch):\n",
    "    df = np.mean(patch)\n",
    "    if df > foreground_threshold:\n",
    "        return 1\n",
    "    else:\n",
    "        return 0\n",
    "\n",
    "def mask_to_submission_strings(im, im_name):\n",
    "    \"\"\"Reads a single image and outputs the strings that should go into the submission file\"\"\"\n",
    "    img_number = int(re.search(r\"\\d+\", im_name).group(0))\n",
    "    for j in range(0, im.shape[1], IMG_PATCH_SIZE):\n",
    "        for i in range(0, im.shape[0], IMG_PATCH_SIZE):\n",
    "            patch = im[i:i + IMG_PATCH_SIZE, j:j + IMG_PATCH_SIZE]\n",
    "            label = patch_to_label(patch)\n",
    "            yield(\"{:03d}_{}_{},{}\".format(img_number, j, i, label))\n",
    "\n",
    "\n",
    "def masks_to_submission(submission_filename, images, images_names):\n",
    "    \"\"\"Converts images into a submission file\"\"\"\n",
    "    with open(submission_filename, 'w') as f:\n",
    "        f.write('id,prediction\\n')\n",
    "        for ind, fn in enumerate(images):\n",
    "            f.writelines('{}\\n'.format(s) for s in mask_to_submission_strings(fn, images_names[ind]))"
   ]
  },
  {
   "cell_type": "code",
   "execution_count": 22,
   "metadata": {},
   "outputs": [],
   "source": [
    "TEST_SIZE = 50\n",
    "test_data_dir = 'test_set_images/'\n",
    "\n",
    "# Extract it into numpy arrays.\n",
    "test_data, file_names = extract_test_data(test_data_dir, TEST_SIZE)"
   ]
  },
  {
   "cell_type": "code",
   "execution_count": 23,
   "metadata": {},
   "outputs": [
    {
     "data": {
      "text/plain": [
       "(50, 608, 608, 3)"
      ]
     },
     "execution_count": 23,
     "metadata": {},
     "output_type": "execute_result"
    }
   ],
   "source": [
    "test_data.shape"
   ]
  },
  {
   "cell_type": "code",
   "execution_count": 26,
   "metadata": {},
   "outputs": [],
   "source": [
    "from keras.models import load_model\n",
    "\n",
    "model = load_model('FCN_16_enh.h5', custom_objects= {'f1_score': f1_score})"
   ]
  },
  {
   "cell_type": "code",
   "execution_count": null,
   "metadata": {},
   "outputs": [],
   "source": [
    "submission_filename = 'silly_submission.csv'\n",
    "images = [keras_prediction_win(model, test_data[i]) for i in range(test_data.shape[0])]\n",
    "masks_to_submission(submission_filename, images, file_names)"
   ]
  },
  {
   "cell_type": "code",
   "execution_count": 60,
   "metadata": {},
   "outputs": [
    {
     "data": {
      "text/plain": [
       "<matplotlib.image.AxesImage at 0x21d23ecfcf8>"
      ]
     },
     "execution_count": 60,
     "metadata": {},
     "output_type": "execute_result"
    },
    {
     "data": {
      "image/png": "[encoded data removed]",
      "text/plain": [
       "<matplotlib.figure.Figure at 0x21d215edcf8>"
      ]
     },
     "metadata": {},
     "output_type": "display_data"
    }
   ],
   "source": [
    "plt.imshow(test_data[49])"
   ]
  },
  {
   "cell_type": "code",
   "execution_count": 146,
   "metadata": {},
   "outputs": [
    {
     "data": {
      "text/plain": [
       "<matplotlib.image.AxesImage at 0x21d29b67e10>"
      ]
     },
     "execution_count": 146,
     "metadata": {},
     "output_type": "execute_result"
    },
    {
     "data": {
      "image/png": "[encoded data removed]",
      "text/plain": [
       "<matplotlib.figure.Figure at 0x21d2e0be6d8>"
      ]
     },
     "metadata": {},
     "output_type": "display_data"
    }
   ],
   "source": [
    "tmp_data = numpy.asarray(img_crop(test_data[49], IMG_PATCH_SIZE, IMG_PATCH_SIZE))\n",
    "output_prediction = model.predict(tmp_data)\n",
    "img = label_to_img(608, 608, 16, 16, output_prediction)\n",
    "img_s = label_to_img_soft(608, 608, 16, 16, output_prediction)\n",
    "plt.imshow(img, cmap='Greys_r')"
   ]
  },
  {
   "cell_type": "code",
   "execution_count": null,
   "metadata": {},
   "outputs": [],
   "source": [
    "img_1 = np.asarray(sliding_window(test_data[30], WINDOW_SIZE, IMG_PATCH_SIZE))\n",
    "output_prediction = model.predict(img_1)\n",
    "plt.imshow(label_to_img(608, 608, 16, 16, output_prediction), cmap='Greys_r')"
   ]
  },
  {
   "cell_type": "code",
   "execution_count": null,
   "metadata": {},
   "outputs": [],
   "source": [
    "submission_filename = 'silly_submission.csv'\n",
    "images = [keras_prediction(model, test_data[i]) for i in range(test_data.shape[0])]\n",
    "masks_to_submission(submission_filename, images, file_names)"
   ]
  },
  {
   "cell_type": "markdown",
   "metadata": {},
   "source": [
    "## CRF to smooth"
   ]
  },
  {
   "cell_type": "code",
   "execution_count": 178,
   "metadata": {},
   "outputs": [
    {
     "data": {
      "text/plain": [
       "(2, 369664)"
      ]
     },
     "execution_count": 178,
     "metadata": {},
     "output_type": "execute_result"
    }
   ],
   "source": [
    "import sys\n",
    "\n",
    "from pydensecrf.utils import compute_unary, create_pairwise_bilateral, \\\n",
    "    create_pairwise_gaussian, softmax_to_unary\n",
    "\n",
    "import skimage.io as io\n",
    "\n",
    "image = test_data[49]\n",
    "img_probs = np.array([[i, 1 - i] for i in img_s.ravel()]).T\n",
    "img_probs.shape"
   ]
  },
  {
   "cell_type": "code",
   "execution_count": 179,
   "metadata": {},
   "outputs": [
    {
     "data": {
      "text/plain": [
       "(2, 369664)"
      ]
     },
     "execution_count": 179,
     "metadata": {},
     "output_type": "execute_result"
    }
   ],
   "source": [
    "unary = softmax_to_unary(img_probs)\n",
    "\n",
    "# The inputs should be C-continious -- we are using Cython wrapper\n",
    "unary = np.ascontiguousarray(unary)\n",
    "unary.shape"
   ]
  },
  {
   "cell_type": "code",
   "execution_count": null,
   "metadata": {},
   "outputs": [],
   "source": []
  },
  {
   "cell_type": "code",
   "execution_count": 182,
   "metadata": {},
   "outputs": [
    {
     "ename": "AttributeError",
     "evalue": "module 'pydensecrf.densecrf' has no attribute 'DenseCRF'",
     "output_type": "error",
     "traceback": [
      "\u001b[1;31m---------------------------------------------------------------------------\u001b[0m",
      "\u001b[1;31mAttributeError\u001b[0m                            Traceback (most recent call last)",
      "\u001b[1;32m<ipython-input-182-70649bf95f3e>\u001b[0m in \u001b[0;36m<module>\u001b[1;34m()\u001b[0m\n\u001b[1;32m----> 1\u001b[1;33m \u001b[0md\u001b[0m \u001b[1;33m=\u001b[0m \u001b[0mdcrf\u001b[0m\u001b[1;33m.\u001b[0m\u001b[0mDenseCRF\u001b[0m\u001b[1;33m(\u001b[0m\u001b[0mimage\u001b[0m\u001b[1;33m.\u001b[0m\u001b[0mshape\u001b[0m\u001b[1;33m[\u001b[0m\u001b[1;36m0\u001b[0m\u001b[1;33m]\u001b[0m \u001b[1;33m*\u001b[0m \u001b[0mimage\u001b[0m\u001b[1;33m.\u001b[0m\u001b[0mshape\u001b[0m\u001b[1;33m[\u001b[0m\u001b[1;36m1\u001b[0m\u001b[1;33m]\u001b[0m\u001b[1;33m,\u001b[0m \u001b[1;36m2\u001b[0m\u001b[1;33m)\u001b[0m\u001b[1;33m\u001b[0m\u001b[0m\n\u001b[0m\u001b[0;32m      2\u001b[0m \u001b[1;33m\u001b[0m\u001b[0m\n\u001b[0;32m      3\u001b[0m \u001b[0md\u001b[0m\u001b[1;33m.\u001b[0m\u001b[0msetUnaryEnergy\u001b[0m\u001b[1;33m(\u001b[0m\u001b[0munary\u001b[0m\u001b[1;33m)\u001b[0m\u001b[1;33m\u001b[0m\u001b[0m\n\u001b[0;32m      4\u001b[0m \u001b[1;33m\u001b[0m\u001b[0m\n\u001b[0;32m      5\u001b[0m \u001b[1;31m# This potential penalizes small pieces of segmentation that are\u001b[0m\u001b[1;33m\u001b[0m\u001b[1;33m\u001b[0m\u001b[0m\n",
      "\u001b[1;31mAttributeError\u001b[0m: module 'pydensecrf.densecrf' has no attribute 'DenseCRF'"
     ]
    }
   ],
   "source": [
    "d = dcrf.DenseCRF(image.shape[0] * image.shape[1], 2)\n",
    "\n",
    "d.setUnaryEnergy(unary)\n",
    "\n",
    "# This potential penalizes small pieces of segmentation that are\n",
    "# spatially isolated -- enforces more spatially consistent segmentations\n",
    "feats = create_pairwise_gaussian(sdims=(10, 10), shape=image.shape[:2])\n",
    "\n",
    "d.addPairwiseEnergy(feats, compat=3,\n",
    "                    kernel=dcrf.DIAG_KERNEL,\n",
    "                    normalization=dcrf.NORMALIZE_SYMMETRIC)\n",
    "\n",
    "# This creates the color-dependent features --\n",
    "# because the segmentation that we get from CNN are too coarse\n",
    "# and we can use local color features to refine them\n",
    "feats = create_pairwise_bilateral(sdims=(50, 50), schan=(20, 20, 20),\n",
    "                                   img=image, chdim=2)\n",
    "\n",
    "d.addPairwiseEnergy(feats, compat=10,\n",
    "                     kernel=dcrf.DIAG_KERNEL,\n",
    "                     normalization=dcrf.NORMALIZE_SYMMETRIC)\n",
    "Q = d.inference(5)\n",
    "\n",
    "res = np.argmax(Q, axis=0).reshape((image.shape[0], image.shape[1]))"
   ]
  },
  {
   "cell_type": "code",
   "execution_count": null,
   "metadata": {},
   "outputs": [],
   "source": [
    "cmap = plt.get_cmap('bwr')\n",
    "plt.imshow(res, vmax=1.5, vmin=-0.4, cmap=cmap)"
   ]
  },
  {
   "cell_type": "markdown",
   "metadata": {},
   "source": [
    "## Random things testing...."
   ]
  },
  {
   "cell_type": "code",
   "execution_count": null,
   "metadata": {},
   "outputs": [],
   "source": [
    "from sklearn.metrics import f1_score"
   ]
  },
  {
   "cell_type": "code",
   "execution_count": null,
   "metadata": {},
   "outputs": [],
   "source": [
    "def label_to_img_lr(imgwidth, imgheight, w, h, labels):\n",
    "    im = np.zeros([imgwidth, imgheight])\n",
    "    idx = 0\n",
    "    for i in range(0,imgheight,h):\n",
    "        for j in range(0,imgwidth,w):\n",
    "            im[j:j+w, i:i+h] = labels[idx]\n",
    "            idx = idx + 1\n",
    "    return im"
   ]
  },
  {
   "cell_type": "code",
   "execution_count": null,
   "metadata": {},
   "outputs": [],
   "source": [
    "from sklearn import linear_model\n",
    "\n",
    "# we create an instance of the classifier and fit the data\n",
    "logreg = linear_model.LogisticRegression(C=1e5, class_weight=\"balanced\")\n",
    "logreg.fit(train_data.reshape((train_data.shape[0], -1)), np.argmax(train_labels, axis=1))"
   ]
  },
  {
   "cell_type": "code",
   "execution_count": null,
   "metadata": {},
   "outputs": [],
   "source": [
    "from sklearn.metrics import accuracy_score\n",
    "accuracy_score(train_labels, logreg.predict(train_data.reshape((train_data.shape[0], -1))))"
   ]
  },
  {
   "cell_type": "code",
   "execution_count": null,
   "metadata": {},
   "outputs": [],
   "source": [
    "tmp_data = numpy.asarray(img_crop(test_data[0], IMG_PATCH_SIZE, IMG_PATCH_SIZE))\n",
    "output_prediction = logreg.predict(tmp_data.reshape(tmp_data.shape[0], -1))\n",
    "plt.imshow(label_to_img_lr(608, 608, 16, 16, output_prediction), cmap='Greys_r')"
   ]
  },
  {
   "cell_type": "markdown",
   "metadata": {},
   "source": [
    "## MLP from sklearn"
   ]
  },
  {
   "cell_type": "code",
   "execution_count": null,
   "metadata": {},
   "outputs": [],
   "source": [
    "from sklearn.neural_network import MLPClassifier\n",
    "mlp = MLPClassifier(hidden_layer_sizes=(32, 32, 64))\n",
    "mlp.fit(train_data.reshape((train_data.shape[0], -1)), train_labels)\n",
    "accuracy_score(train_labels, mlp.predict(train_data.reshape((train_data.shape[0], -1))))"
   ]
  },
  {
   "cell_type": "code",
   "execution_count": null,
   "metadata": {},
   "outputs": [],
   "source": [
    "def sklearn_prediction(model, image):\n",
    "    tmp_data = numpy.asarray(img_crop(image, IMG_PATCH_SIZE, IMG_PATCH_SIZE))\n",
    "    output_prediction = model.predict(tmp_data.reshape(tmp_data.shape[0], -1))\n",
    "    return label_to_img_lr(608, 608, 16, 16, output_prediction)"
   ]
  },
  {
   "cell_type": "code",
   "execution_count": null,
   "metadata": {},
   "outputs": [],
   "source": [
    "tmp_data = numpy.asarray(img_crop(test_data[3], IMG_PATCH_SIZE, IMG_PATCH_SIZE))\n",
    "output_prediction = mlp.predict(tmp_data.reshape(tmp_data.shape[0], -1))\n",
    "plt.imshow(label_to_img_lr(608, 608, 16, 16, output_prediction), cmap='Greys_r')"
   ]
  },
  {
   "cell_type": "code",
   "execution_count": null,
   "metadata": {},
   "outputs": [],
   "source": []
  }
 ],
 "metadata": {
  "kernelspec": {
   "display_name": "Python 3",
   "language": "python",
   "name": "python3"
  },
  "language_info": {
   "codemirror_mode": {
    "name": "ipython",
    "version": 3
   },
   "file_extension": ".py",
   "mimetype": "text/x-python",
   "name": "python",
   "nbconvert_exporter": "python",
   "pygments_lexer": "ipython3",
   "version": "3.6.2"
  }
 },
 "nbformat": 4,
 "nbformat_minor": 1
}
