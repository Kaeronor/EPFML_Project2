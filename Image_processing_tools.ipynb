{
 "cells": [
  {
   "cell_type": "code",
   "execution_count": 1,
   "metadata": {},
   "outputs": [],
   "source": [
    "%matplotlib inline\n",
    "\n",
    "import os,sys\n",
    "\n",
    "import matplotlib.image as mpimg\n",
    "import matplotlib.pyplot as plt\n",
    "from PIL import Image\n",
    "import numpy as np\n",
    "\n",
    "import torch\n",
    "from torch.autograd import Variable\n",
    "\n",
    "import timeit\n",
    "\n",
    "%load_ext autoreload\n",
    "%autoreload 2"
   ]
  },
  {
   "cell_type": "code",
   "execution_count": 2,
   "metadata": {},
   "outputs": [],
   "source": [
    "def apply_mirror_boundary_conditions(coord, dim):\n",
    "    \"\"\"\n",
    "    Return the correct coordinate according to mirror boundary conditions\n",
    "        coord: a coordinate (x or y) in the image\n",
    "        dim: the length of the axis of said coordinate\n",
    "    \"\"\"\n",
    "    # If the coordinate is outside of the bounds of the axis, take its reflection inside the image\n",
    "    if coord < 0:\n",
    "        coord = -coord\n",
    "    elif coord >= dim:\n",
    "        coord =  2*(dim-1) - coord % (2*(dim-1))\n",
    "    # Else, do nothing\n",
    "    return int(coord)\n",
    "\n",
    "def get_window(image, window_size, centre_coordinates):\n",
    "    \"\"\"\n",
    "    Get a window in image taking into account boundary conditions\n",
    "        image: a numpy array representing our image\n",
    "        window_size: an odd number specifying the size of the window\n",
    "        centre_coordinates: a list containing the x-y coordinates of the window's central pixel\n",
    "    \"\"\"\n",
    "    # Get convenient variables\n",
    "    window_radius = (window_size - 1)/2\n",
    "    i_centre, j_centre = (centre_coordinates[0], centre_coordinates[1])\n",
    "    nrows, ncols, nchannels = image.shape\n",
    "    window = np.zeros((window_size, window_size, nchannels))\n",
    "    # Fill in the window array with pixels of the image\n",
    "    for i in range(window_size):\n",
    "        # Apply mirror boundary conditions on the x-coordinate\n",
    "        i_mirrored = apply_mirror_boundary_conditions(i_centre + i - window_radius, nrows)\n",
    "        for j in range(window_size):\n",
    "            # Same for the y-coordinate\n",
    "            j_mirrored = apply_mirror_boundary_conditions(j_centre + j - window_radius, ncols)\n",
    "            # Fill in the window with the corresponding pixel\n",
    "            window[i, j, :] = image[i_mirrored, j_mirrored, :]\n",
    "    return window"
   ]
  },
  {
   "cell_type": "code",
   "execution_count": 53,
   "metadata": {},
   "outputs": [
    {
     "name": "stdout",
     "output_type": "stream",
     "text": [
      "4\n"
     ]
    }
   ],
   "source": [
    "for j in range(4, 3, -1):\n",
    "    print(j)"
   ]
  },
  {
   "cell_type": "code",
   "execution_count": 65,
   "metadata": {},
   "outputs": [],
   "source": [
    "def shift_to_the_right(image, window, centre_coordinates, step=1):\n",
    "    nrows, ncols, _ = image.shape\n",
    "    window_size = len(window)\n",
    "    window_radius = (window_size - 1)/2\n",
    "    #j_mirrored = apply_mirror_boundary_conditions(centre_coordinates[1] + step + window_radius, ncols)\n",
    "    shifted = np.roll(window, -step, axis=1)\n",
    "    for i in range(window_size):\n",
    "        i_mirrored = apply_mirror_boundary_conditions(centre_coordinates[0] + i - window_radius, nrows)            \n",
    "        for j in range(window_size-step, window_size):\n",
    "            j_mirrored = apply_mirror_boundary_conditions(centre_coordinates[1] + j - window_radius + step, ncols)\n",
    "            shifted[i, j, :] = image[i_mirrored, j_mirrored, :]\n",
    "    return shifted\n",
    "\n",
    "def shift_to_the_bottom(image, window, centre_coordinates, step=1):\n",
    "    nrows, ncols, _ = image.shape\n",
    "    window_size = len(window)\n",
    "    window_radius = (window_size - 1)/2\n",
    "    #i_mirrored = apply_mirror_boundary_conditions(centre_coordinates[0] + 1 + window_radius, nrows)\n",
    "    shifted = np.roll(window, -step, axis=0)\n",
    "    #print('shifted\\n', shifted[:,:,0], '\\n')\n",
    "    for j in range(window_size):\n",
    "        j_mirrored = apply_mirror_boundary_conditions(centre_coordinates[1] + j - window_radius, ncols)\n",
    "        for i in range(window_size-step, window_size):\n",
    "            i_mirrored = apply_mirror_boundary_conditions(centre_coordinates[0] + i - window_radius + step, nrows)\n",
    "            #print(i, i_mirrored)\n",
    "            shifted[i, j, :] = image[i_mirrored, j_mirrored, :]\n",
    "    return shifted\n",
    "\n",
    "def sliding_window(image, window_size, step=1):\n",
    "    \"\"\"\n",
    "    Construct a list of sliding windows of given size on an image.\n",
    "    The windows will slide from left to right and from up to down.\n",
    "        image: a numpy array representing our image\n",
    "        window_size: an odd number specifying the size of the window\n",
    "        step: the value of the shift between windows\n",
    "    \"\"\"\n",
    "    nrows, ncols, _ = image.shape\n",
    "    windows = []\n",
    "    i = 0\n",
    "    row_windows = [get_window(image, window_size, [i, 0])]\n",
    "    for j in range(0, ncols-1, step):\n",
    "        row_windows += [shift_to_the_right(image, row_windows[-1], [i, j], step)]\n",
    "    windows += row_windows\n",
    "    for i in range(0, nrows-1, step):\n",
    "        row_windows = [shift_to_the_bottom(image, row_windows[int(j/step)], [i, j], step) for j in range(0, ncols, step)]\n",
    "        windows += row_windows\n",
    "    return windows"
   ]
  },
  {
   "cell_type": "code",
   "execution_count": 67,
   "metadata": {},
   "outputs": [
    {
     "name": "stdout",
     "output_type": "stream",
     "text": [
      "(100, 400, 400, 3) (100, 400, 400)\n"
     ]
    }
   ],
   "source": [
    "# Directory and files name\n",
    "train_dir = \"training/\"\n",
    "tr_image_dir = train_dir + \"images/\"\n",
    "tr_label_dir = train_dir + \"groundtruth/\"\n",
    "\n",
    "tr_image_files = os.listdir(tr_image_dir)\n",
    "tr_label_files = os.listdir(tr_label_dir)\n",
    "\n",
    "# Number of training samples\n",
    "N = len(tr_image_files)\n",
    "\n",
    "# Load the images and ground truth\n",
    "img_train = []\n",
    "label_train = []\n",
    "for i in range(N):\n",
    "    img = mpimg.imread(tr_image_dir + tr_image_files[i])\n",
    "    label = mpimg.imread(tr_label_dir + tr_label_files[i])\n",
    "    \n",
    "    img_train.append(img)\n",
    "    label_train.append(label)\n",
    "\n",
    "# Keep only sub-set of images\n",
    "NUM_IMAGES = N\n",
    "\n",
    "img_train = np.asarray(img_train[:NUM_IMAGES])\n",
    "label_train = np.asarray(label_train[:NUM_IMAGES])\n",
    "\n",
    "print(img_train.shape, label_train.shape)"
   ]
  },
  {
   "cell_type": "code",
   "execution_count": 31,
   "metadata": {},
   "outputs": [
    {
     "name": "stdout",
     "output_type": "stream",
     "text": [
      "19.8 s ± 1.89 s per loop (mean ± std. dev. of 7 runs, 1 loop each)\n",
      "5.87 s ± 397 ms per loop (mean ± std. dev. of 7 runs, 1 loop each)\n",
      "2.97 s ± 236 ms per loop (mean ± std. dev. of 7 runs, 1 loop each)\n",
      "1 s ± 77 ms per loop (mean ± std. dev. of 7 runs, 1 loop each)\n",
      "367 ms ± 41.8 ms per loop (mean ± std. dev. of 7 runs, 1 loop each)\n",
      "220 ms ± 43.4 ms per loop (mean ± std. dev. of 7 runs, 1 loop each)\n"
     ]
    }
   ],
   "source": [
    "im = img_train[0]\n",
    "for window_size in [3, 5, 7, 15, 35, 51]:\n",
    "    %timeit sliding_window(im, window_size, step=int(window_size/2))"
   ]
  },
  {
   "cell_type": "code",
   "execution_count": 66,
   "metadata": {},
   "outputs": [],
   "source": [
    "def compute_all_windows(img_train, label_train, window_size, step):\n",
    "    for im, labels, i in zip(img_train, label_train, range(len(img_train))):\n",
    "        w_im = sliding_window(im, window_size, step)\n",
    "        w_labels = sliding_window(labels[:, :, np.newaxis], window_size, step)\n",
    "        path = './windows_train/' + str(i)\n",
    "        os.makedirs(path, exist_ok=True)\n",
    "        for wi, wl, j in zip(w_im, w_labels, range(len(w_im))):\n",
    "            img_name = path + '/im_' + str(j) + '.png'\n",
    "            plt.imsave(img_name, wi)\n",
    "            label_name = path + '/label_' + str(j) + '.png'\n",
    "            plt.imsave(label_name, wl[:,:,0])"
   ]
  },
  {
   "cell_type": "code",
   "execution_count": 68,
   "metadata": {},
   "outputs": [],
   "source": [
    "window_size = 51\n",
    "step = int(window_size/2)\n",
    "compute_all_windows(img_train, label_train, window_size, step)"
   ]
  },
  {
   "cell_type": "code",
   "execution_count": 64,
   "metadata": {
    "scrolled": false
   },
   "outputs": [
    {
     "name": "stdout",
     "output_type": "stream",
     "text": [
      "[[ 0  1  2  3  4  5  6  7  8  9]\n",
      " [10 11 12 13 14 15 16 17 18 19]\n",
      " [20 21 22 23 24 25 26 27 28 29]\n",
      " [30 31 32 33 34 35 36 37 38 39]\n",
      " [40 41 42 43 44 45 46 47 48 49]\n",
      " [50 51 52 53 54 55 56 57 58 59]\n",
      " [60 61 62 63 64 65 66 67 68 69]\n",
      " [70 71 72 73 74 75 76 77 78 79]\n",
      " [80 81 82 83 84 85 86 87 88 89]\n",
      " [90 91 92 93 94 95 96 97 98 99]]\n",
      "\n",
      "\n",
      "[[ 33.  34.  35.  36.  37.]\n",
      " [ 43.  44.  45.  46.  47.]\n",
      " [ 53.  54.  55.  56.  57.]\n",
      " [ 63.  64.  65.  66.  67.]\n",
      " [ 73.  74.  75.  76.  77.]]\n",
      "\n",
      "\n",
      "shifted\n",
      " [[ 53.  54.  55.  56.  57.]\n",
      " [ 63.  64.  65.  66.  67.]\n",
      " [ 73.  74.  75.  76.  77.]\n",
      " [ 33.  34.  35.  36.  37.]\n",
      " [ 43.  44.  45.  46.  47.]] \n",
      "\n",
      "3 8\n",
      "4 9\n",
      "3 8\n",
      "4 9\n",
      "3 8\n",
      "4 9\n",
      "3 8\n",
      "4 9\n",
      "3 8\n",
      "4 9\n",
      "[[ 53.  54.  55.  56.  57.]\n",
      " [ 63.  64.  65.  66.  67.]\n",
      " [ 73.  74.  75.  76.  77.]\n",
      " [ 83.  84.  85.  86.  87.]\n",
      " [ 93.  94.  95.  96.  97.]]\n"
     ]
    }
   ],
   "source": [
    "a = np.array(range(10*10))\n",
    "a = a.reshape((10, 10))\n",
    "print(a)\n",
    "aa = get_window(a[:,:,np.newaxis], 5, [5,5])[:,:,0]\n",
    "print('\\n')\n",
    "print(aa)\n",
    "print('\\n')\n",
    "print(shift_to_the_bottom(a[:,:,np.newaxis], aa[:,:,np.newaxis], [5,5], 2)[:,:,0])"
   ]
  }
 ],
 "metadata": {
  "kernelspec": {
   "display_name": "Python [conda root]",
   "language": "python",
   "name": "conda-root-py"
  },
  "language_info": {
   "codemirror_mode": {
    "name": "ipython",
    "version": 3
   },
   "file_extension": ".py",
   "mimetype": "text/x-python",
   "name": "python",
   "nbconvert_exporter": "python",
   "pygments_lexer": "ipython3",
   "version": "3.6.0"
  }
 },
 "nbformat": 4,
 "nbformat_minor": 2
}
